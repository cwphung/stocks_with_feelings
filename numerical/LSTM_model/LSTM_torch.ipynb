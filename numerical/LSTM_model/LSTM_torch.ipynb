{
 "cells": [
  {
   "cell_type": "markdown",
   "metadata": {},
   "source": [
    "## Numerical analysis using Long Short Term Memory (LSTM) ##\n",
    "### 1. import statements and prepare stock data from csv for training ###\n",
    "This version uses pytorch to model close price of a stock. 5 yr of AAPL data is used in training "
   ]
  },
  {
   "cell_type": "code",
   "execution_count": 201,
   "metadata": {},
   "outputs": [],
   "source": [
    "import pandas as pd\n",
    "import numpy as np\n",
    "import matplotlib.pyplot as plt\n",
    "\n",
    "import torch\n",
    "import torch.nn as nn\n",
    "from sklearn.preprocessing import MinMaxScaler\n",
    "\n",
    "from sklearn.model_selection import train_test_split\n",
    "from torch.utils.data import DataLoader\n",
    "import torch.optim as optim\n",
    "\n",
    "from datetime import datetime\n"
   ]
  },
  {
   "cell_type": "code",
   "execution_count": 202,
   "metadata": {},
   "outputs": [
    {
     "data": {
      "application/vnd.microsoft.datawrangler.viewer.v0+json": {
       "columns": [
        {
         "name": "index",
         "rawType": "int64",
         "type": "integer"
        },
        {
         "name": "Date",
         "rawType": "object",
         "type": "string"
        },
        {
         "name": "Open",
         "rawType": "float64",
         "type": "float"
        },
        {
         "name": "High",
         "rawType": "float64",
         "type": "float"
        },
        {
         "name": "Low",
         "rawType": "float64",
         "type": "float"
        },
        {
         "name": "Close",
         "rawType": "float64",
         "type": "float"
        },
        {
         "name": "Adj Close",
         "rawType": "float64",
         "type": "float"
        },
        {
         "name": "Volume",
         "rawType": "int64",
         "type": "integer"
        },
        {
         "name": "Stock Name",
         "rawType": "object",
         "type": "string"
        }
       ],
       "conversionMethod": "pd.DataFrame",
       "ref": "d6e21f7b-7387-4697-9929-e5eba15610e5",
       "rows": [
        [
         "0",
         "2020-02-27",
         "70.2750015258789",
         "71.5",
         "68.23999786376953",
         "68.37999725341797",
         "66.37754821777344",
         "320605600",
         "AAPL"
        ],
        [
         "1",
         "2020-02-28",
         "64.31500244140625",
         "69.60250091552734",
         "64.09249877929688",
         "68.33999633789062",
         "66.33873748779297",
         "426510000",
         "AAPL"
        ],
        [
         "2",
         "2020-03-02",
         "70.56999969482422",
         "75.36000061035156",
         "69.43000030517578",
         "74.70249938964844",
         "72.51492309570312",
         "341397200",
         "AAPL"
        ],
        [
         "3",
         "2020-03-03",
         "75.9175033569336",
         "76.0",
         "71.44999694824219",
         "72.33000183105469",
         "70.2118911743164",
         "319475600",
         "AAPL"
        ],
        [
         "4",
         "2020-03-04",
         "74.11000061035156",
         "75.8499984741211",
         "73.28250122070312",
         "75.68499755859375",
         "73.4686508178711",
         "219178400",
         "AAPL"
        ],
        [
         "5",
         "2020-03-05",
         "73.87999725341797",
         "74.88749694824219",
         "72.85250091552734",
         "73.2300033569336",
         "71.08552551269531",
         "187572800",
         "AAPL"
        ],
        [
         "6",
         "2020-03-06",
         "70.5",
         "72.70500183105469",
         "70.30750274658203",
         "72.25749969482422",
         "70.14153289794922",
         "226176800",
         "AAPL"
        ],
        [
         "7",
         "2020-03-09",
         "65.9375",
         "69.52249908447266",
         "65.75",
         "66.5425033569336",
         "64.5938949584961",
         "286744800",
         "AAPL"
        ],
        [
         "8",
         "2020-03-10",
         "69.28500366210938",
         "71.61000061035156",
         "67.34249877929688",
         "71.33499908447266",
         "69.24603271484375",
         "285290000",
         "AAPL"
        ],
        [
         "9",
         "2020-03-11",
         "69.34750366210938",
         "70.30500030517578",
         "67.96499633789062",
         "68.85749816894531",
         "66.84109497070312",
         "255598800",
         "AAPL"
        ],
        [
         "10",
         "2020-03-12",
         "63.98500061035156",
         "67.5",
         "62.0",
         "62.057498931884766",
         "60.24021911621094",
         "418474000",
         "AAPL"
        ],
        [
         "11",
         "2020-03-13",
         "66.22250366210938",
         "69.9800033569336",
         "63.23749923706055",
         "69.49250030517578",
         "67.4574966430664",
         "370732000",
         "AAPL"
        ],
        [
         "12",
         "2020-03-16",
         "60.48749923706055",
         "64.7699966430664",
         "60.0",
         "60.5525016784668",
         "58.77928924560547",
         "322423600",
         "AAPL"
        ],
        [
         "13",
         "2020-03-17",
         "61.87749862670898",
         "64.40249633789062",
         "59.59999847412109",
         "63.21500015258789",
         "61.36381530761719",
         "324056000",
         "AAPL"
        ],
        [
         "14",
         "2020-03-18",
         "59.942501068115234",
         "62.5",
         "59.27999877929688",
         "61.66749954223633",
         "59.861629486083984",
         "300233600",
         "AAPL"
        ],
        [
         "15",
         "2020-03-19",
         "61.84749984741211",
         "63.209999084472656",
         "60.65250015258789",
         "61.19499969482422",
         "59.40297317504883",
         "271857200",
         "AAPL"
        ],
        [
         "16",
         "2020-03-20",
         "61.79499816894531",
         "62.95750045776367",
         "57.0",
         "57.310001373291016",
         "55.631744384765625",
         "401693200",
         "AAPL"
        ],
        [
         "17",
         "2020-03-23",
         "57.02000045776367",
         "57.125",
         "53.15250015258789",
         "56.09249877929688",
         "54.44989776611328",
         "336752800",
         "AAPL"
        ],
        [
         "18",
         "2020-03-24",
         "59.09000015258789",
         "61.92250061035156",
         "58.57500076293945",
         "61.720001220703125",
         "59.91259765625",
         "287531200",
         "AAPL"
        ],
        [
         "19",
         "2020-03-25",
         "62.6875",
         "64.5625",
         "61.07500076293945",
         "61.380001068115234",
         "59.58256149291992",
         "303602000",
         "AAPL"
        ],
        [
         "20",
         "2020-03-26",
         "61.630001068115234",
         "64.66999816894531",
         "61.59000015258789",
         "64.61000061035156",
         "62.71797180175781",
         "252087200",
         "AAPL"
        ],
        [
         "21",
         "2020-03-27",
         "63.1875",
         "63.96749877929688",
         "61.76250076293945",
         "61.935001373291016",
         "60.12131118774414",
         "204216800",
         "AAPL"
        ],
        [
         "22",
         "2020-03-30",
         "62.685001373291016",
         "63.880001068115234",
         "62.34999847412109",
         "63.70249938964844",
         "61.83704376220703",
         "167976400",
         "AAPL"
        ],
        [
         "23",
         "2020-03-31",
         "63.900001525878906",
         "65.62249755859375",
         "63.0",
         "63.5724983215332",
         "61.71085357666016",
         "197002000",
         "AAPL"
        ],
        [
         "24",
         "2020-04-01",
         "61.625",
         "62.18000030517578",
         "59.782501220703125",
         "60.227500915527344",
         "58.463809967041016",
         "176218400",
         "AAPL"
        ],
        [
         "25",
         "2020-04-02",
         "60.084999084472656",
         "61.28749847412109",
         "59.22499847412109",
         "61.23249816894531",
         "59.43937301635742",
         "165934000",
         "AAPL"
        ],
        [
         "26",
         "2020-04-03",
         "60.70000076293945",
         "61.42499923706055",
         "59.74250030517578",
         "60.352500915527344",
         "58.58513641357422",
         "129880000",
         "AAPL"
        ],
        [
         "27",
         "2020-04-06",
         "62.72499847412109",
         "65.77749633789062",
         "62.345001220703125",
         "65.61750030517578",
         "63.69597244262695",
         "201820400",
         "AAPL"
        ],
        [
         "28",
         "2020-04-07",
         "67.69999694824219",
         "67.92500305175781",
         "64.75",
         "64.85749816894531",
         "62.95820999145508",
         "202887200",
         "AAPL"
        ],
        [
         "29",
         "2020-04-08",
         "65.68499755859375",
         "66.84249877929688",
         "65.30750274658203",
         "66.51750183105469",
         "64.56961059570312",
         "168895200",
         "AAPL"
        ],
        [
         "30",
         "2020-04-09",
         "67.17500305175781",
         "67.51750183105469",
         "66.17500305175781",
         "66.99749755859375",
         "65.03555297851562",
         "161834800",
         "AAPL"
        ],
        [
         "31",
         "2020-04-13",
         "67.07749938964844",
         "68.42500305175781",
         "66.4574966430664",
         "68.3125",
         "66.31204223632812",
         "131022800",
         "AAPL"
        ],
        [
         "32",
         "2020-04-14",
         "70.0",
         "72.0625",
         "69.51249694824219",
         "71.76249694824219",
         "69.66101837158203",
         "194994800",
         "AAPL"
        ],
        [
         "33",
         "2020-04-15",
         "70.5999984741211",
         "71.5824966430664",
         "70.15750122070312",
         "71.10749816894531",
         "69.02518463134766",
         "131154400",
         "AAPL"
        ],
        [
         "34",
         "2020-04-16",
         "71.84500122070312",
         "72.05000305175781",
         "70.5875015258789",
         "71.67250061035156",
         "69.57364654541016",
         "157125200",
         "AAPL"
        ],
        [
         "35",
         "2020-04-17",
         "71.17250061035156",
         "71.73750305175781",
         "69.21499633789062",
         "70.69999694824219",
         "68.6296157836914",
         "215250000",
         "AAPL"
        ],
        [
         "36",
         "2020-04-20",
         "69.48750305175781",
         "70.41999816894531",
         "69.2125015258789",
         "69.23249816894531",
         "67.20511627197266",
         "130015200",
         "AAPL"
        ],
        [
         "37",
         "2020-04-21",
         "69.06999969482422",
         "69.3125",
         "66.35749816894531",
         "67.09249877929688",
         "65.12777709960938",
         "180991600",
         "AAPL"
        ],
        [
         "38",
         "2020-04-22",
         "68.40249633789062",
         "69.4749984741211",
         "68.05000305175781",
         "69.0250015258789",
         "67.00367736816406",
         "116862400",
         "AAPL"
        ],
        [
         "39",
         "2020-04-23",
         "68.96749877929688",
         "70.4375",
         "68.71749877929688",
         "68.75749969482422",
         "66.7440185546875",
         "124814400",
         "AAPL"
        ],
        [
         "40",
         "2020-04-24",
         "69.30000305175781",
         "70.75250244140625",
         "69.25",
         "70.74250030517578",
         "68.67086029052734",
         "126161200",
         "AAPL"
        ],
        [
         "41",
         "2020-04-27",
         "70.44999694824219",
         "71.13500213623047",
         "69.98750305175781",
         "70.7925033569336",
         "68.71943664550781",
         "117087600",
         "AAPL"
        ],
        [
         "42",
         "2020-04-28",
         "71.2699966430664",
         "71.4574966430664",
         "69.55000305175781",
         "69.6449966430664",
         "67.60552215576172",
         "112004800",
         "AAPL"
        ],
        [
         "43",
         "2020-04-29",
         "71.18250274658203",
         "72.4175033569336",
         "70.97250366210938",
         "71.93250274658203",
         "69.8260498046875",
         "137280800",
         "AAPL"
        ],
        [
         "44",
         "2020-04-30",
         "72.48999786376953",
         "73.63249969482422",
         "72.0875015258789",
         "73.44999694824219",
         "71.2990951538086",
         "183064000",
         "AAPL"
        ],
        [
         "45",
         "2020-05-01",
         "71.5625",
         "74.75",
         "71.4625015258789",
         "72.26750183105469",
         "70.15120697021484",
         "240616800",
         "AAPL"
        ],
        [
         "46",
         "2020-05-04",
         "72.2925033569336",
         "73.42250061035156",
         "71.58000183105469",
         "73.29000091552734",
         "71.14378356933594",
         "133568000",
         "AAPL"
        ],
        [
         "47",
         "2020-05-05",
         "73.76499938964844",
         "75.25",
         "73.61499786376953",
         "74.38999938964844",
         "72.21157836914062",
         "147751200",
         "AAPL"
        ],
        [
         "48",
         "2020-05-06",
         "75.11499786376953",
         "75.80999755859375",
         "74.71749877929688",
         "75.15750122070312",
         "72.95659637451172",
         "142333600",
         "AAPL"
        ],
        [
         "49",
         "2020-05-07",
         "75.80500030517578",
         "76.2925033569336",
         "75.49250030517578",
         "75.93499755859375",
         "73.7113265991211",
         "115215200",
         "AAPL"
        ]
       ],
       "shape": {
        "columns": 8,
        "rows": 1254
       }
      },
      "text/html": [
       "<div>\n",
       "<style scoped>\n",
       "    .dataframe tbody tr th:only-of-type {\n",
       "        vertical-align: middle;\n",
       "    }\n",
       "\n",
       "    .dataframe tbody tr th {\n",
       "        vertical-align: top;\n",
       "    }\n",
       "\n",
       "    .dataframe thead th {\n",
       "        text-align: right;\n",
       "    }\n",
       "</style>\n",
       "<table border=\"1\" class=\"dataframe\">\n",
       "  <thead>\n",
       "    <tr style=\"text-align: right;\">\n",
       "      <th></th>\n",
       "      <th>Date</th>\n",
       "      <th>Open</th>\n",
       "      <th>High</th>\n",
       "      <th>Low</th>\n",
       "      <th>Close</th>\n",
       "      <th>Adj Close</th>\n",
       "      <th>Volume</th>\n",
       "      <th>Stock Name</th>\n",
       "    </tr>\n",
       "  </thead>\n",
       "  <tbody>\n",
       "    <tr>\n",
       "      <th>0</th>\n",
       "      <td>2020-02-27</td>\n",
       "      <td>70.275002</td>\n",
       "      <td>71.500000</td>\n",
       "      <td>68.239998</td>\n",
       "      <td>68.379997</td>\n",
       "      <td>66.377548</td>\n",
       "      <td>320605600</td>\n",
       "      <td>AAPL</td>\n",
       "    </tr>\n",
       "    <tr>\n",
       "      <th>1</th>\n",
       "      <td>2020-02-28</td>\n",
       "      <td>64.315002</td>\n",
       "      <td>69.602501</td>\n",
       "      <td>64.092499</td>\n",
       "      <td>68.339996</td>\n",
       "      <td>66.338737</td>\n",
       "      <td>426510000</td>\n",
       "      <td>AAPL</td>\n",
       "    </tr>\n",
       "    <tr>\n",
       "      <th>2</th>\n",
       "      <td>2020-03-02</td>\n",
       "      <td>70.570000</td>\n",
       "      <td>75.360001</td>\n",
       "      <td>69.430000</td>\n",
       "      <td>74.702499</td>\n",
       "      <td>72.514923</td>\n",
       "      <td>341397200</td>\n",
       "      <td>AAPL</td>\n",
       "    </tr>\n",
       "    <tr>\n",
       "      <th>3</th>\n",
       "      <td>2020-03-03</td>\n",
       "      <td>75.917503</td>\n",
       "      <td>76.000000</td>\n",
       "      <td>71.449997</td>\n",
       "      <td>72.330002</td>\n",
       "      <td>70.211891</td>\n",
       "      <td>319475600</td>\n",
       "      <td>AAPL</td>\n",
       "    </tr>\n",
       "    <tr>\n",
       "      <th>4</th>\n",
       "      <td>2020-03-04</td>\n",
       "      <td>74.110001</td>\n",
       "      <td>75.849998</td>\n",
       "      <td>73.282501</td>\n",
       "      <td>75.684998</td>\n",
       "      <td>73.468651</td>\n",
       "      <td>219178400</td>\n",
       "      <td>AAPL</td>\n",
       "    </tr>\n",
       "    <tr>\n",
       "      <th>...</th>\n",
       "      <td>...</td>\n",
       "      <td>...</td>\n",
       "      <td>...</td>\n",
       "      <td>...</td>\n",
       "      <td>...</td>\n",
       "      <td>...</td>\n",
       "      <td>...</td>\n",
       "      <td>...</td>\n",
       "    </tr>\n",
       "    <tr>\n",
       "      <th>1249</th>\n",
       "      <td>2025-02-14</td>\n",
       "      <td>241.250000</td>\n",
       "      <td>245.550003</td>\n",
       "      <td>240.990005</td>\n",
       "      <td>244.600006</td>\n",
       "      <td>244.600006</td>\n",
       "      <td>40896200</td>\n",
       "      <td>AAPL</td>\n",
       "    </tr>\n",
       "    <tr>\n",
       "      <th>1250</th>\n",
       "      <td>2025-02-18</td>\n",
       "      <td>244.149994</td>\n",
       "      <td>245.179993</td>\n",
       "      <td>241.839996</td>\n",
       "      <td>244.470001</td>\n",
       "      <td>244.470001</td>\n",
       "      <td>48822500</td>\n",
       "      <td>AAPL</td>\n",
       "    </tr>\n",
       "    <tr>\n",
       "      <th>1251</th>\n",
       "      <td>2025-02-19</td>\n",
       "      <td>244.660004</td>\n",
       "      <td>246.009995</td>\n",
       "      <td>243.160004</td>\n",
       "      <td>244.869995</td>\n",
       "      <td>244.869995</td>\n",
       "      <td>32204200</td>\n",
       "      <td>AAPL</td>\n",
       "    </tr>\n",
       "    <tr>\n",
       "      <th>1252</th>\n",
       "      <td>2025-02-20</td>\n",
       "      <td>244.940002</td>\n",
       "      <td>246.779999</td>\n",
       "      <td>244.289993</td>\n",
       "      <td>245.830002</td>\n",
       "      <td>245.830002</td>\n",
       "      <td>32316900</td>\n",
       "      <td>AAPL</td>\n",
       "    </tr>\n",
       "    <tr>\n",
       "      <th>1253</th>\n",
       "      <td>2025-02-21</td>\n",
       "      <td>245.949997</td>\n",
       "      <td>248.690002</td>\n",
       "      <td>245.220001</td>\n",
       "      <td>245.550003</td>\n",
       "      <td>245.550003</td>\n",
       "      <td>53119400</td>\n",
       "      <td>AAPL</td>\n",
       "    </tr>\n",
       "  </tbody>\n",
       "</table>\n",
       "<p>1254 rows × 8 columns</p>\n",
       "</div>"
      ],
      "text/plain": [
       "            Date        Open        High         Low       Close   Adj Close  \\\n",
       "0     2020-02-27   70.275002   71.500000   68.239998   68.379997   66.377548   \n",
       "1     2020-02-28   64.315002   69.602501   64.092499   68.339996   66.338737   \n",
       "2     2020-03-02   70.570000   75.360001   69.430000   74.702499   72.514923   \n",
       "3     2020-03-03   75.917503   76.000000   71.449997   72.330002   70.211891   \n",
       "4     2020-03-04   74.110001   75.849998   73.282501   75.684998   73.468651   \n",
       "...          ...         ...         ...         ...         ...         ...   \n",
       "1249  2025-02-14  241.250000  245.550003  240.990005  244.600006  244.600006   \n",
       "1250  2025-02-18  244.149994  245.179993  241.839996  244.470001  244.470001   \n",
       "1251  2025-02-19  244.660004  246.009995  243.160004  244.869995  244.869995   \n",
       "1252  2025-02-20  244.940002  246.779999  244.289993  245.830002  245.830002   \n",
       "1253  2025-02-21  245.949997  248.690002  245.220001  245.550003  245.550003   \n",
       "\n",
       "         Volume Stock Name  \n",
       "0     320605600       AAPL  \n",
       "1     426510000       AAPL  \n",
       "2     341397200       AAPL  \n",
       "3     319475600       AAPL  \n",
       "4     219178400       AAPL  \n",
       "...         ...        ...  \n",
       "1249   40896200       AAPL  \n",
       "1250   48822500       AAPL  \n",
       "1251   32204200       AAPL  \n",
       "1252   32316900       AAPL  \n",
       "1253   53119400       AAPL  \n",
       "\n",
       "[1254 rows x 8 columns]"
      ]
     },
     "execution_count": 202,
     "metadata": {},
     "output_type": "execute_result"
    }
   ],
   "source": [
    "\n",
    "prefix = datetime.today().strftime('%Y-%m-%d')\n",
    "ticker= \"AAPL\" #\"AAPL\" #\"^SPX\" #\"TSLA\"\n",
    "\n",
    "data = pd.read_csv(prefix+'-'+ticker+'.csv')\n",
    "data"
   ]
  },
  {
   "cell_type": "code",
   "execution_count": 203,
   "metadata": {},
   "outputs": [
    {
     "data": {
      "text/plain": [
       "'cpu'"
      ]
     },
     "execution_count": 203,
     "metadata": {},
     "output_type": "execute_result"
    }
   ],
   "source": [
    "device = 'cuda:0' if torch.cuda.is_available() else 'cpu'\n",
    "device"
   ]
  },
  {
   "cell_type": "code",
   "execution_count": 204,
   "metadata": {},
   "outputs": [
    {
     "data": {
      "text/plain": [
       "[<matplotlib.lines.Line2D at 0x27440e40110>]"
      ]
     },
     "execution_count": 204,
     "metadata": {},
     "output_type": "execute_result"
    },
    {
     "data": {
      "image/png": "[encoded data removed]",
      "text/plain": [
       "<Figure size 640x480 with 1 Axes>"
      ]
     },
     "metadata": {},
     "output_type": "display_data"
    }
   ],
   "source": [
    "# only use close column\n",
    "data = data[['Date', 'Close']]\n",
    "pd.options.mode.chained_assignment = None\n",
    "data['Date'] = pd.to_datetime(data['Date'])\n",
    "plt.plot(data['Date'], data['Close'])"
   ]
  },
  {
   "cell_type": "code",
   "execution_count": 205,
   "metadata": {},
   "outputs": [
    {
     "data": {
      "text/plain": [
       "array([-0.8970075 , -0.840682  , -0.83109726, -0.80690148, -0.83996744,\n",
       "       -0.81658473, -0.87929188, -0.87889765])"
      ]
     },
     "execution_count": 205,
     "metadata": {},
     "output_type": "execute_result"
    }
   ],
   "source": [
    "from copy import deepcopy as dc\n",
    "\n",
    "def prepare_dataframe_for_lstm(df, n_steps):\n",
    "    df = dc(df)\n",
    "\n",
    "    df.set_index('Date', inplace=True)\n",
    "\n",
    "    for i in range(1, n_steps+1):\n",
    "        df[f'Close(t-{i})'] = df['Close'].shift(i)\n",
    "\n",
    "    df.dropna(inplace=True)\n",
    "\n",
    "    return df\n",
    "\n",
    "# construct dataframe with 7-day lookback\n",
    "lookback = 7\n",
    "shifted_df = prepare_dataframe_for_lstm(data, lookback)\n",
    "\n",
    "## convert 7-day dataframe to array value between -1,1\n",
    "scaler = MinMaxScaler(feature_range=(-1, 1))\n",
    "scaled_data  = scaler.fit_transform(shifted_df.to_numpy())\n",
    "\n",
    "scaled_data[0]"
   ]
  },
  {
   "cell_type": "code",
   "execution_count": 206,
   "metadata": {},
   "outputs": [],
   "source": [
    "# define input X and label y\n",
    "X = scaled_data[:, 1:] # last 7 columns are input\n",
    "y = scaled_data[:, 0] # current close date is label\n",
    "\n",
    "X = dc(np.flip(X, axis=1))"
   ]
  },
  {
   "cell_type": "markdown",
   "metadata": {},
   "source": [
    "### 2. Split data into training and test sets with a 80/20 split ###\n"
   ]
  },
  {
   "cell_type": "code",
   "execution_count": 207,
   "metadata": {},
   "outputs": [],
   "source": [
    "# set up train / test \n",
    "X_train, X_test, y_train, y_test = train_test_split(X, y, test_size=0.2)\n"
   ]
  },
  {
   "cell_type": "markdown",
   "metadata": {},
   "source": [
    "### 3. Convert the numpy arrays to PyTorch tensors ###\n",
    "need to reshape, and add .to(device)"
   ]
  },
  {
   "cell_type": "code",
   "execution_count": 208,
   "metadata": {},
   "outputs": [
    {
     "data": {
      "text/plain": [
       "(torch.Size([997, 7, 1]),\n",
       " torch.Size([250, 7, 1]),\n",
       " torch.Size([997, 1]),\n",
       " torch.Size([250, 1]))"
      ]
     },
     "execution_count": 208,
     "metadata": {},
     "output_type": "execute_result"
    }
   ],
   "source": [
    "X_train = X_train.reshape((-1, lookback, 1))\n",
    "X_test = X_test.reshape((-1, lookback, 1))\n",
    "\n",
    "y_train = y_train.reshape((-1, 1))\n",
    "y_test = y_test.reshape((-1, 1))\n",
    "\n",
    "X_train = torch.tensor(X_train).float()\n",
    "y_train = torch.tensor(y_train).float()\n",
    "X_test = torch.tensor(X_test).float()\n",
    "y_test = torch.tensor(y_test).float()\n",
    "\n",
    "X_train.shape, X_test.shape, y_train.shape, y_test.shape"
   ]
  },
  {
   "cell_type": "code",
   "execution_count": 209,
   "metadata": {},
   "outputs": [
    {
     "name": "stdout",
     "output_type": "stream",
     "text": [
      "torch.Size([64, 7, 1]) torch.Size([64, 1])\n"
     ]
    }
   ],
   "source": [
    "# Create dataset object\n",
    "train_ds = list(zip(X_train, y_train))\n",
    "valid_ds = list(zip(X_test, y_test))\n",
    "#\n",
    "# Define the DataLoaders\n",
    "train_dl = DataLoader(train_ds, batch_size=64, shuffle=True)\n",
    "valid_dl = DataLoader(valid_ds, batch_size=64, shuffle=True)\n",
    "\n",
    "for _, batch in enumerate(train_dl):\n",
    "    x_batch, y_batch = batch[0].to(device), batch[1].to(device)\n",
    "    print(x_batch.shape, y_batch.shape)\n",
    "    break"
   ]
  },
  {
   "cell_type": "markdown",
   "metadata": {},
   "source": [
    "### 4. Create and train model ###"
   ]
  },
  {
   "cell_type": "code",
   "execution_count": 210,
   "metadata": {},
   "outputs": [
    {
     "name": "stdout",
     "output_type": "stream",
     "text": [
      "Batch 1, Loss: 0.035\n",
      "Batch 6, Loss: 0.154\n",
      "Batch 11, Loss: 0.142\n",
      "Batch 16, Loss: 0.129\n",
      "Epoch 1/10,  Loss: 0.16299498081207275\n",
      "Val Loss: 0.292\n",
      "***************************************************\n",
      "Batch 1, Loss: 0.020\n",
      "Batch 6, Loss: 0.134\n",
      "Batch 11, Loss: 0.133\n",
      "Batch 16, Loss: 0.130\n",
      "Epoch 2/10,  Loss: 0.26375362277030945\n",
      "Val Loss: 0.268\n",
      "***************************************************\n",
      "Batch 1, Loss: 0.024\n",
      "Batch 6, Loss: 0.118\n",
      "Batch 11, Loss: 0.114\n",
      "Batch 16, Loss: 0.123\n",
      "Epoch 3/10,  Loss: 0.19575366377830505\n",
      "Val Loss: 0.245\n",
      "***************************************************\n",
      "Batch 1, Loss: 0.018\n",
      "Batch 6, Loss: 0.102\n",
      "Batch 11, Loss: 0.118\n",
      "Batch 16, Loss: 0.110\n",
      "Epoch 4/10,  Loss: 0.17424635589122772\n",
      "Val Loss: 0.229\n",
      "***************************************************\n",
      "Batch 1, Loss: 0.020\n",
      "Batch 6, Loss: 0.104\n",
      "Batch 11, Loss: 0.103\n",
      "Batch 16, Loss: 0.101\n",
      "Epoch 5/10,  Loss: 0.24676217138767242\n",
      "Val Loss: 0.215\n",
      "***************************************************\n",
      "Batch 1, Loss: 0.021\n",
      "Batch 6, Loss: 0.097\n",
      "Batch 11, Loss: 0.104\n",
      "Batch 16, Loss: 0.082\n",
      "Epoch 6/10,  Loss: 0.1683606207370758\n",
      "Val Loss: 0.204\n",
      "***************************************************\n",
      "Batch 1, Loss: 0.019\n",
      "Batch 6, Loss: 0.089\n",
      "Batch 11, Loss: 0.091\n",
      "Batch 16, Loss: 0.091\n",
      "Epoch 7/10,  Loss: 0.18295110762119293\n",
      "Val Loss: 0.194\n",
      "***************************************************\n",
      "Batch 1, Loss: 0.019\n",
      "Batch 6, Loss: 0.086\n",
      "Batch 11, Loss: 0.086\n",
      "Batch 16, Loss: 0.084\n",
      "Epoch 8/10,  Loss: 0.15619683265686035\n",
      "Val Loss: 0.187\n",
      "***************************************************\n",
      "Batch 1, Loss: 0.016\n",
      "Batch 6, Loss: 0.090\n",
      "Batch 11, Loss: 0.077\n",
      "Batch 16, Loss: 0.081\n",
      "Epoch 9/10,  Loss: 0.11530445516109467\n",
      "Val Loss: 0.182\n",
      "***************************************************\n",
      "Batch 1, Loss: 0.019\n",
      "Batch 6, Loss: 0.077\n",
      "Batch 11, Loss: 0.081\n",
      "Batch 16, Loss: 0.083\n",
      "Epoch 10/10,  Loss: 0.14343981444835663\n",
      "Val Loss: 0.180\n",
      "***************************************************\n"
     ]
    }
   ],
   "source": [
    "# Define the LSTM model\n",
    "class LSTMModel(nn.Module):\n",
    "    def __init__(self, input_size, hidden_size, num_stacked_layers, output_size):\n",
    "        super(LSTMModel, self).__init__()\n",
    "        self.hidden_size = hidden_size\n",
    "        self.num_stacked_layers = num_stacked_layers\n",
    "\n",
    "        self.lstm = nn.LSTM(input_size, hidden_size, num_stacked_layers, batch_first=True)\n",
    "        self.fc = nn.Linear(hidden_size, output_size)\n",
    "    \n",
    "    def forward(self, x):\n",
    "        batch_size = x.size(0)\n",
    "        # gate for lstm\n",
    "        h0 = torch.zeros(self.num_stacked_layers, batch_size, self.hidden_size).to(device)\n",
    "        c0 = torch.zeros(self.num_stacked_layers, batch_size, self.hidden_size).to(device)\n",
    "\n",
    "        lstm_out, _ = self.lstm(x, (h0,c0))  # LSTM output\n",
    "        out = self.fc(lstm_out[:, -1, :])  # We take the last output\n",
    "        return out\n",
    "\n",
    "# Define hyperparameters\n",
    "input_size = 1   # Number of features closing value for now\n",
    "hidden_size = 4  # Number of hidden units in the LSTM\n",
    "output_size = 1   # For 1 closing\n",
    "num_stacked_layers = 4\n",
    "\n",
    "# Initialize the model, loss, and optimizer\n",
    "model = LSTMModel(input_size, hidden_size, num_stacked_layers, output_size).to(device)\n",
    "criterion = nn.MSELoss()  # Mean square error for regression\n",
    "optimizer = optim.Adam(model.parameters(), lr=0.001)\n",
    "\n",
    "# Training loop\n",
    "epochs = 10\n",
    "for epoch in range(epochs):\n",
    "    ## train\n",
    "    model.train(True)\n",
    "    optimizer.zero_grad()\n",
    "    running_loss = 0.0\n",
    "\n",
    "    for batch_index, batch in enumerate(train_dl):\n",
    "        x_batch, y_batch = batch[0].to(device), batch[1].to(device)\n",
    "\n",
    "        output = model(x_batch)\n",
    "        loss = criterion(output, y_batch)\n",
    "        running_loss += loss.item()\n",
    "        loss.backward()\n",
    "        optimizer.step()\n",
    "\n",
    "        if batch_index % 5 == 0:  # print every 5 batches\n",
    "            avg_loss_across_batches = running_loss / 10\n",
    "            print('Batch {0}, Loss: {1:.3f}'.format(batch_index+1,\n",
    "                                                    avg_loss_across_batches))\n",
    "            running_loss = 0.0\n",
    "    print(f\"Epoch {epoch+1}/{epochs},  Loss: {loss.item()}\")\n",
    "\n",
    "    # validate\n",
    "    model.train(False)\n",
    "    running_loss = 0.0\n",
    "    for batch_index, batch in enumerate(valid_dl):\n",
    "        x_batch, y_batch = batch[0].to(device), batch[1].to(device)\n",
    "        \n",
    "        with torch.no_grad():\n",
    "            output = model(x_batch)\n",
    "            loss = criterion(output, y_batch)\n",
    "            running_loss += loss.item()\n",
    "    avg_loss = running_loss / len(valid_dl)\n",
    "    print('Val Loss: {0:.3f}'.format(avg_loss))\n",
    "    print('***************************************************')\n"
   ]
  },
  {
   "cell_type": "code",
   "execution_count": 211,
   "metadata": {},
   "outputs": [
    {
     "data": {
      "image/png": "[encoded data removed]",
      "text/plain": [
       "<Figure size 640x480 with 1 Axes>"
      ]
     },
     "metadata": {},
     "output_type": "display_data"
    }
   ],
   "source": [
    "with torch.no_grad():\n",
    "    predicted = model(X_train.to(device)).to('cpu').numpy()\n",
    "\n",
    "plt.plot(y_train, label='Actual Close')\n",
    "plt.plot(predicted, label='Predicted Close')\n",
    "plt.xlabel('Day')\n",
    "plt.ylabel('Close')\n",
    "plt.legend()\n",
    "plt.show()\n",
    "#y_train, predicted"
   ]
  },
  {
   "cell_type": "code",
   "execution_count": 212,
   "metadata": {},
   "outputs": [
    {
     "name": "stderr",
     "output_type": "stream",
     "text": [
      "C:\\Users\\joann\\AppData\\Local\\Temp\\ipykernel_20172\\4165834649.py:10: DeprecationWarning: __array__ implementation doesn't accept a copy keyword, so passing copy=False failed. __array__ must implement 'dtype' and 'copy' keyword arguments. To learn more, see the migration guide https://numpy.org/devdocs/numpy_2_0_migration_guide.html#adapting-to-changes-in-the-copy-keyword\n",
      "  dummies[:, 0] = y_train.flatten()\n"
     ]
    },
    {
     "data": {
      "image/png": "[encoded data removed]",
      "text/plain": [
       "<Figure size 640x480 with 1 Axes>"
      ]
     },
     "metadata": {},
     "output_type": "display_data"
    }
   ],
   "source": [
    "train_predictions = predicted.flatten()\n",
    "\n",
    "dummies = np.zeros((X_train.shape[0], lookback+1))\n",
    "dummies[:, 0] = train_predictions\n",
    "dummies = scaler.inverse_transform(dummies)\n",
    "\n",
    "train_predictions = dc(dummies[:, 0])\n",
    "train_predictions\n",
    "dummies = np.zeros((X_train.shape[0], lookback+1))\n",
    "dummies[:, 0] = y_train.flatten()\n",
    "dummies = scaler.inverse_transform(dummies)\n",
    "\n",
    "new_y_train = dc(dummies[:, 0])\n",
    "\n",
    "plt.plot(new_y_train, label='Actual Close')\n",
    "plt.plot(train_predictions, label='Predicted Close')\n",
    "plt.xlabel('Day')\n",
    "plt.ylabel('Close')\n",
    "plt.legend()\n",
    "plt.show()\n",
    "#new_y_train, train_predictions"
   ]
  }
 ],
 "metadata": {
  "kernelspec": {
   "display_name": "Python 3",
   "language": "python",
   "name": "python3"
  },
  "language_info": {
   "codemirror_mode": {
    "name": "ipython",
    "version": 3
   },
   "file_extension": ".py",
   "mimetype": "text/x-python",
   "name": "python",
   "nbconvert_exporter": "python",
   "pygments_lexer": "ipython3",
   "version": "3.11.9"
  }
 },
 "nbformat": 4,
 "nbformat_minor": 2
}
