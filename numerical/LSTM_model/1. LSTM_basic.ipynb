{
 "cells": [
  {
   "cell_type": "markdown",
   "metadata": {},
   "source": [
    "## Numerical analysis using Long Short Term Memory (LSTM) ##\n",
    "### 1. import statements and prepare stock data from csv for training ###\n",
    "This version uses tensorflow to model close price of a stock. 5 yr of MSFT data is used in training "
   ]
  },
  {
   "cell_type": "code",
   "execution_count": 93,
   "metadata": {},
   "outputs": [],
   "source": [
    "import pandas as pd\n",
    "import numpy as np\n",
    "import matplotlib.pyplot as plt\n",
    "\n",
    "from sklearn.preprocessing import MinMaxScaler\n",
    "from sklearn.model_selection import train_test_split\n",
    "\n",
    "from datetime import datetime\n",
    "\n",
    "#reference https://www.youtube.com/watch?v=CbTU92pbDKw and https://www.youtube.com/watch?v=q_HS4s1L8UI "
   ]
  },
  {
   "cell_type": "code",
   "execution_count": 94,
   "metadata": {},
   "outputs": [
    {
     "data": {
      "application/vnd.microsoft.datawrangler.viewer.v0+json": {
       "columns": [
        {
         "name": "index",
         "rawType": "int64",
         "type": "integer"
        },
        {
         "name": "Date",
         "rawType": "object",
         "type": "string"
        },
        {
         "name": "Open",
         "rawType": "float64",
         "type": "float"
        },
        {
         "name": "High",
         "rawType": "float64",
         "type": "float"
        },
        {
         "name": "Low",
         "rawType": "float64",
         "type": "float"
        },
        {
         "name": "Close",
         "rawType": "float64",
         "type": "float"
        },
        {
         "name": "Adj Close",
         "rawType": "float64",
         "type": "float"
        },
        {
         "name": "Volume",
         "rawType": "int64",
         "type": "integer"
        },
        {
         "name": "Stock Name",
         "rawType": "object",
         "type": "string"
        }
       ],
       "conversionMethod": "pd.DataFrame",
       "ref": "5c8a8817-6e94-4f76-9b11-167393906a45",
       "rows": [
        [
         "0",
         "2020-02-27",
         "163.32000732421875",
         "167.02999877929688",
         "157.97999572753906",
         "158.17999267578125",
         "151.40650939941406",
         "93174900",
         "MSFT"
        ],
        [
         "1",
         "2020-02-28",
         "152.41000366210938",
         "163.7100067138672",
         "152.0",
         "162.00999450683594",
         "155.07249450683594",
         "97012700",
         "MSFT"
        ],
        [
         "2",
         "2020-03-02",
         "165.30999755859375",
         "172.9199981689453",
         "162.30999755859375",
         "172.7899932861328",
         "165.3909149169922",
         "71030800",
         "MSFT"
        ],
        [
         "3",
         "2020-03-03",
         "173.8000030517578",
         "175.0",
         "162.25999450683594",
         "164.50999450683594",
         "157.46546936035156",
         "71677000",
         "MSFT"
        ],
        [
         "4",
         "2020-03-04",
         "168.49000549316406",
         "170.6999969482422",
         "165.6199951171875",
         "170.5500030517578",
         "163.24684143066406",
         "49814400",
         "MSFT"
        ],
        [
         "5",
         "2020-03-05",
         "166.0500030517578",
         "170.8699951171875",
         "165.69000244140625",
         "166.27000427246094",
         "159.15011596679688",
         "47817300",
         "MSFT"
        ],
        [
         "6",
         "2020-03-06",
         "162.61000061035156",
         "163.11000061035156",
         "156.0",
         "161.57000732421875",
         "154.6513671875",
         "72821100",
         "MSFT"
        ],
        [
         "7",
         "2020-03-09",
         "151.0",
         "157.75",
         "150.0",
         "150.6199951171875",
         "144.1702423095703",
         "70419300",
         "MSFT"
        ],
        [
         "8",
         "2020-03-10",
         "158.16000366210938",
         "161.02999877929688",
         "152.5800018310547",
         "160.9199981689453",
         "154.02920532226562",
         "65354400",
         "MSFT"
        ],
        [
         "9",
         "2020-03-11",
         "157.1300048828125",
         "157.6999969482422",
         "151.14999389648438",
         "153.6300048828125",
         "147.0513916015625",
         "56371600",
         "MSFT"
        ],
        [
         "10",
         "2020-03-12",
         "145.3000030517578",
         "153.47000122070312",
         "138.5800018310547",
         "139.05999755859375",
         "133.1052703857422",
         "93226400",
         "MSFT"
        ],
        [
         "11",
         "2020-03-13",
         "147.5",
         "161.91000366210938",
         "140.72999572753906",
         "158.8300018310547",
         "152.02870178222656",
         "92727400",
         "MSFT"
        ],
        [
         "12",
         "2020-03-16",
         "140.0",
         "149.35000610351562",
         "135.0",
         "135.4199981689453",
         "129.62115478515625",
         "87905900",
         "MSFT"
        ],
        [
         "13",
         "2020-03-17",
         "140.0",
         "147.5",
         "135.0",
         "146.57000732421875",
         "140.29368591308594",
         "81059800",
         "MSFT"
        ],
        [
         "14",
         "2020-03-18",
         "138.0",
         "146.0",
         "135.02000427246094",
         "140.39999389648438",
         "134.38787841796875",
         "81593200",
         "MSFT"
        ],
        [
         "15",
         "2020-03-19",
         "142.77000427246094",
         "150.14999389648438",
         "139.0",
         "142.7100067138672",
         "136.59898376464844",
         "85922700",
         "MSFT"
        ],
        [
         "16",
         "2020-03-20",
         "146.0",
         "147.10000610351562",
         "135.86000061035156",
         "137.35000610351562",
         "131.46849060058594",
         "84866200",
         "MSFT"
        ],
        [
         "17",
         "2020-03-23",
         "137.00999450683594",
         "140.57000732421875",
         "132.52000427246094",
         "135.97999572753906",
         "130.1571502685547",
         "78975200",
         "MSFT"
        ],
        [
         "18",
         "2020-03-24",
         "143.75",
         "149.60000610351562",
         "141.27000427246094",
         "148.33999633789062",
         "141.98788452148438",
         "82516700",
         "MSFT"
        ],
        [
         "19",
         "2020-03-25",
         "148.91000366210938",
         "154.3300018310547",
         "144.44000244140625",
         "146.9199981689453",
         "140.62867736816406",
         "75638200",
         "MSFT"
        ],
        [
         "20",
         "2020-03-26",
         "148.39999389648438",
         "156.66000366210938",
         "148.3699951171875",
         "156.11000061035156",
         "149.4251708984375",
         "64568100",
         "MSFT"
        ],
        [
         "21",
         "2020-03-27",
         "151.75",
         "154.88999938964844",
         "149.1999969482422",
         "149.6999969482422",
         "143.2896270751953",
         "57042300",
         "MSFT"
        ],
        [
         "22",
         "2020-03-30",
         "152.44000244140625",
         "160.60000610351562",
         "150.00999450683594",
         "160.22999572753906",
         "153.3687286376953",
         "63420300",
         "MSFT"
        ],
        [
         "23",
         "2020-03-31",
         "159.39999389648438",
         "164.77999877929688",
         "156.55999755859375",
         "157.7100067138672",
         "150.95664978027344",
         "77927200",
         "MSFT"
        ],
        [
         "24",
         "2020-04-01",
         "153.0",
         "157.75",
         "150.82000732421875",
         "152.11000061035156",
         "145.59645080566406",
         "57969900",
         "MSFT"
        ],
        [
         "25",
         "2020-04-02",
         "151.86000061035156",
         "155.47999572753906",
         "150.36000061035156",
         "155.25999450683594",
         "148.61158752441406",
         "49630700",
         "MSFT"
        ],
        [
         "26",
         "2020-04-03",
         "155.10000610351562",
         "157.3800048828125",
         "152.19000244140625",
         "153.8300018310547",
         "147.2427978515625",
         "41243300",
         "MSFT"
        ],
        [
         "27",
         "2020-04-06",
         "160.32000732421875",
         "166.5",
         "157.5800018310547",
         "165.27000427246094",
         "158.1929168701172",
         "67111700",
         "MSFT"
        ],
        [
         "28",
         "2020-04-07",
         "169.58999633789062",
         "170.0",
         "163.25999450683594",
         "163.49000549316406",
         "156.48915100097656",
         "62769000",
         "MSFT"
        ],
        [
         "29",
         "2020-04-08",
         "165.6699981689453",
         "166.6699981689453",
         "163.5",
         "165.1300048828125",
         "158.0589141845703",
         "48318200",
         "MSFT"
        ],
        [
         "30",
         "2020-04-09",
         "166.36000061035156",
         "167.3699951171875",
         "163.3300018310547",
         "165.13999938964844",
         "158.06851196289062",
         "51385100",
         "MSFT"
        ],
        [
         "31",
         "2020-04-13",
         "164.35000610351562",
         "165.57000732421875",
         "162.3000030517578",
         "165.50999450683594",
         "158.42263793945312",
         "41905300",
         "MSFT"
        ],
        [
         "32",
         "2020-04-14",
         "169.0",
         "173.75",
         "168.0",
         "173.6999969482422",
         "166.26193237304688",
         "52874300",
         "MSFT"
        ],
        [
         "33",
         "2020-04-15",
         "171.1999969482422",
         "173.57000732421875",
         "169.24000549316406",
         "171.8800048828125",
         "164.51988220214844",
         "40940800",
         "MSFT"
        ],
        [
         "34",
         "2020-04-16",
         "174.3000030517578",
         "177.27999877929688",
         "172.89999389648438",
         "177.0399932861328",
         "169.45889282226562",
         "50479600",
         "MSFT"
        ],
        [
         "35",
         "2020-04-17",
         "179.5",
         "180.0",
         "175.8699951171875",
         "178.60000610351562",
         "170.95213317871094",
         "52765600",
         "MSFT"
        ],
        [
         "36",
         "2020-04-20",
         "176.6300048828125",
         "178.75",
         "174.99000549316406",
         "175.05999755859375",
         "167.5636749267578",
         "36669600",
         "MSFT"
        ],
        [
         "37",
         "2020-04-21",
         "173.5",
         "173.6699981689453",
         "166.11000061035156",
         "167.82000732421875",
         "160.63372802734375",
         "56203700",
         "MSFT"
        ],
        [
         "38",
         "2020-04-22",
         "171.38999938964844",
         "174.0",
         "170.82000732421875",
         "173.52000427246094",
         "166.08966064453125",
         "34620200",
         "MSFT"
        ],
        [
         "39",
         "2020-04-23",
         "174.11000061035156",
         "175.05999755859375",
         "170.91000366210938",
         "171.4199981689453",
         "164.07957458496094",
         "32790800",
         "MSFT"
        ],
        [
         "40",
         "2020-04-24",
         "172.05999755859375",
         "174.55999755859375",
         "170.7100067138672",
         "174.5500030517578",
         "167.07553100585938",
         "34277600",
         "MSFT"
        ],
        [
         "41",
         "2020-04-27",
         "176.58999633789062",
         "176.89999389648438",
         "173.3000030517578",
         "174.0500030517578",
         "166.59695434570312",
         "33194400",
         "MSFT"
        ],
        [
         "42",
         "2020-04-28",
         "175.58999633789062",
         "175.6699981689453",
         "169.38999938964844",
         "169.80999755859375",
         "162.53855895996094",
         "34392700",
         "MSFT"
        ],
        [
         "43",
         "2020-04-29",
         "173.22000122070312",
         "177.67999267578125",
         "171.8800048828125",
         "177.42999267578125",
         "169.8321990966797",
         "51286600",
         "MSFT"
        ],
        [
         "44",
         "2020-04-30",
         "180.0",
         "180.3999938964844",
         "176.22999572753906",
         "179.2100067138672",
         "171.53604125976562",
         "53875900",
         "MSFT"
        ],
        [
         "45",
         "2020-05-01",
         "175.8000030517578",
         "178.63999938964844",
         "174.00999450683594",
         "174.57000732421875",
         "167.0946807861328",
         "39370500",
         "MSFT"
        ],
        [
         "46",
         "2020-05-04",
         "174.49000549316406",
         "179.0",
         "173.8000030517578",
         "178.83999633789062",
         "171.18182373046875",
         "30372900",
         "MSFT"
        ],
        [
         "47",
         "2020-05-05",
         "180.6199951171875",
         "183.6499938964844",
         "179.89999389648438",
         "180.75999450683597",
         "173.0196075439453",
         "36839200",
         "MSFT"
        ],
        [
         "48",
         "2020-05-06",
         "182.0800018310547",
         "184.1999969482422",
         "181.6300048828125",
         "182.5399932861328",
         "174.723388671875",
         "32139300",
         "MSFT"
        ],
        [
         "49",
         "2020-05-07",
         "184.1699981689453",
         "184.5500030517578",
         "182.5800018310547",
         "183.6000061035156",
         "175.73797607421875",
         "28316000",
         "MSFT"
        ]
       ],
       "shape": {
        "columns": 8,
        "rows": 1254
       }
      },
      "text/html": [
       "<div>\n",
       "<style scoped>\n",
       "    .dataframe tbody tr th:only-of-type {\n",
       "        vertical-align: middle;\n",
       "    }\n",
       "\n",
       "    .dataframe tbody tr th {\n",
       "        vertical-align: top;\n",
       "    }\n",
       "\n",
       "    .dataframe thead th {\n",
       "        text-align: right;\n",
       "    }\n",
       "</style>\n",
       "<table border=\"1\" class=\"dataframe\">\n",
       "  <thead>\n",
       "    <tr style=\"text-align: right;\">\n",
       "      <th></th>\n",
       "      <th>Date</th>\n",
       "      <th>Open</th>\n",
       "      <th>High</th>\n",
       "      <th>Low</th>\n",
       "      <th>Close</th>\n",
       "      <th>Adj Close</th>\n",
       "      <th>Volume</th>\n",
       "      <th>Stock Name</th>\n",
       "    </tr>\n",
       "  </thead>\n",
       "  <tbody>\n",
       "    <tr>\n",
       "      <th>0</th>\n",
       "      <td>2020-02-27</td>\n",
       "      <td>163.320007</td>\n",
       "      <td>167.029999</td>\n",
       "      <td>157.979996</td>\n",
       "      <td>158.179993</td>\n",
       "      <td>151.406509</td>\n",
       "      <td>93174900</td>\n",
       "      <td>MSFT</td>\n",
       "    </tr>\n",
       "    <tr>\n",
       "      <th>1</th>\n",
       "      <td>2020-02-28</td>\n",
       "      <td>152.410004</td>\n",
       "      <td>163.710007</td>\n",
       "      <td>152.000000</td>\n",
       "      <td>162.009995</td>\n",
       "      <td>155.072495</td>\n",
       "      <td>97012700</td>\n",
       "      <td>MSFT</td>\n",
       "    </tr>\n",
       "    <tr>\n",
       "      <th>2</th>\n",
       "      <td>2020-03-02</td>\n",
       "      <td>165.309998</td>\n",
       "      <td>172.919998</td>\n",
       "      <td>162.309998</td>\n",
       "      <td>172.789993</td>\n",
       "      <td>165.390915</td>\n",
       "      <td>71030800</td>\n",
       "      <td>MSFT</td>\n",
       "    </tr>\n",
       "    <tr>\n",
       "      <th>3</th>\n",
       "      <td>2020-03-03</td>\n",
       "      <td>173.800003</td>\n",
       "      <td>175.000000</td>\n",
       "      <td>162.259995</td>\n",
       "      <td>164.509995</td>\n",
       "      <td>157.465469</td>\n",
       "      <td>71677000</td>\n",
       "      <td>MSFT</td>\n",
       "    </tr>\n",
       "    <tr>\n",
       "      <th>4</th>\n",
       "      <td>2020-03-04</td>\n",
       "      <td>168.490005</td>\n",
       "      <td>170.699997</td>\n",
       "      <td>165.619995</td>\n",
       "      <td>170.550003</td>\n",
       "      <td>163.246841</td>\n",
       "      <td>49814400</td>\n",
       "      <td>MSFT</td>\n",
       "    </tr>\n",
       "    <tr>\n",
       "      <th>...</th>\n",
       "      <td>...</td>\n",
       "      <td>...</td>\n",
       "      <td>...</td>\n",
       "      <td>...</td>\n",
       "      <td>...</td>\n",
       "      <td>...</td>\n",
       "      <td>...</td>\n",
       "      <td>...</td>\n",
       "    </tr>\n",
       "    <tr>\n",
       "      <th>1249</th>\n",
       "      <td>2025-02-14</td>\n",
       "      <td>407.790009</td>\n",
       "      <td>408.910004</td>\n",
       "      <td>405.880005</td>\n",
       "      <td>408.429993</td>\n",
       "      <td>407.612671</td>\n",
       "      <td>22758500</td>\n",
       "      <td>MSFT</td>\n",
       "    </tr>\n",
       "    <tr>\n",
       "      <th>1250</th>\n",
       "      <td>2025-02-18</td>\n",
       "      <td>408.000000</td>\n",
       "      <td>410.600006</td>\n",
       "      <td>406.500000</td>\n",
       "      <td>409.640015</td>\n",
       "      <td>408.820282</td>\n",
       "      <td>21423100</td>\n",
       "      <td>MSFT</td>\n",
       "    </tr>\n",
       "    <tr>\n",
       "      <th>1251</th>\n",
       "      <td>2025-02-19</td>\n",
       "      <td>407.880005</td>\n",
       "      <td>415.489990</td>\n",
       "      <td>407.649994</td>\n",
       "      <td>414.769989</td>\n",
       "      <td>413.940002</td>\n",
       "      <td>24114200</td>\n",
       "      <td>MSFT</td>\n",
       "    </tr>\n",
       "    <tr>\n",
       "      <th>1252</th>\n",
       "      <td>2025-02-20</td>\n",
       "      <td>415.290009</td>\n",
       "      <td>419.309998</td>\n",
       "      <td>412.540009</td>\n",
       "      <td>416.130005</td>\n",
       "      <td>416.130005</td>\n",
       "      <td>23508700</td>\n",
       "      <td>MSFT</td>\n",
       "    </tr>\n",
       "    <tr>\n",
       "      <th>1253</th>\n",
       "      <td>2025-02-21</td>\n",
       "      <td>417.339996</td>\n",
       "      <td>418.049988</td>\n",
       "      <td>407.890015</td>\n",
       "      <td>408.209991</td>\n",
       "      <td>408.209991</td>\n",
       "      <td>27448200</td>\n",
       "      <td>MSFT</td>\n",
       "    </tr>\n",
       "  </tbody>\n",
       "</table>\n",
       "<p>1254 rows × 8 columns</p>\n",
       "</div>"
      ],
      "text/plain": [
       "            Date        Open        High         Low       Close   Adj Close  \\\n",
       "0     2020-02-27  163.320007  167.029999  157.979996  158.179993  151.406509   \n",
       "1     2020-02-28  152.410004  163.710007  152.000000  162.009995  155.072495   \n",
       "2     2020-03-02  165.309998  172.919998  162.309998  172.789993  165.390915   \n",
       "3     2020-03-03  173.800003  175.000000  162.259995  164.509995  157.465469   \n",
       "4     2020-03-04  168.490005  170.699997  165.619995  170.550003  163.246841   \n",
       "...          ...         ...         ...         ...         ...         ...   \n",
       "1249  2025-02-14  407.790009  408.910004  405.880005  408.429993  407.612671   \n",
       "1250  2025-02-18  408.000000  410.600006  406.500000  409.640015  408.820282   \n",
       "1251  2025-02-19  407.880005  415.489990  407.649994  414.769989  413.940002   \n",
       "1252  2025-02-20  415.290009  419.309998  412.540009  416.130005  416.130005   \n",
       "1253  2025-02-21  417.339996  418.049988  407.890015  408.209991  408.209991   \n",
       "\n",
       "        Volume Stock Name  \n",
       "0     93174900       MSFT  \n",
       "1     97012700       MSFT  \n",
       "2     71030800       MSFT  \n",
       "3     71677000       MSFT  \n",
       "4     49814400       MSFT  \n",
       "...        ...        ...  \n",
       "1249  22758500       MSFT  \n",
       "1250  21423100       MSFT  \n",
       "1251  24114200       MSFT  \n",
       "1252  23508700       MSFT  \n",
       "1253  27448200       MSFT  \n",
       "\n",
       "[1254 rows x 8 columns]"
      ]
     },
     "execution_count": 94,
     "metadata": {},
     "output_type": "execute_result"
    }
   ],
   "source": [
    "# use DataPreprocessing if file does not exist\n",
    "prefix = datetime.today().strftime('%Y-%m-%d')\n",
    "ticker= \"MSFT\" #\"AAPL\" #\"^SPX\" #\"TSLA\"\n",
    "\n",
    "data = pd.read_csv(prefix+'-'+ticker+'.csv')\n",
    "data"
   ]
  },
  {
   "cell_type": "code",
   "execution_count": 95,
   "metadata": {},
   "outputs": [
    {
     "data": {
      "text/plain": [
       "'cpu'"
      ]
     },
     "execution_count": 95,
     "metadata": {},
     "output_type": "execute_result"
    }
   ],
   "source": [
    "import torch\n",
    "\n",
    "device = 'cuda:0' if torch.cuda.is_available() else 'cpu'\n",
    "device"
   ]
  },
  {
   "cell_type": "code",
   "execution_count": 96,
   "metadata": {},
   "outputs": [
    {
     "data": {
      "text/plain": [
       "[<matplotlib.lines.Line2D at 0x1f224d38050>]"
      ]
     },
     "execution_count": 96,
     "metadata": {},
     "output_type": "execute_result"
    },
    {
     "data": {
      "image/png": "[encoded data removed]",
      "text/plain": [
       "<Figure size 640x480 with 1 Axes>"
      ]
     },
     "metadata": {},
     "output_type": "display_data"
    }
   ],
   "source": [
    "# only use close column\n",
    "data = data[['Date', 'Close']]\n",
    "pd.options.mode.chained_assignment = None\n",
    "data['Date'] = pd.to_datetime(data['Date'])\n",
    "plt.plot(data['Date'], data['Close'])"
   ]
  },
  {
   "cell_type": "code",
   "execution_count": 97,
   "metadata": {},
   "outputs": [
    {
     "data": {
      "application/vnd.microsoft.datawrangler.viewer.v0+json": {
       "columns": [
        {
         "name": "Date",
         "rawType": "datetime64[ns]",
         "type": "datetime"
        },
        {
         "name": "Close",
         "rawType": "float64",
         "type": "float"
        },
        {
         "name": "Close(t-1)",
         "rawType": "float64",
         "type": "float"
        },
        {
         "name": "Close(t-2)",
         "rawType": "float64",
         "type": "float"
        },
        {
         "name": "Close(t-3)",
         "rawType": "float64",
         "type": "float"
        },
        {
         "name": "Close(t-4)",
         "rawType": "float64",
         "type": "float"
        },
        {
         "name": "Close(t-5)",
         "rawType": "float64",
         "type": "float"
        },
        {
         "name": "Close(t-6)",
         "rawType": "float64",
         "type": "float"
        },
        {
         "name": "Close(t-7)",
         "rawType": "float64",
         "type": "float"
        }
       ],
       "conversionMethod": "pd.DataFrame",
       "ref": "1b313ca0-17fe-4334-a184-0ec9fad571ee",
       "rows": [
        [
         "2020-03-09 00:00:00",
         "150.6199951171875",
         "161.57000732421875",
         "166.27000427246094",
         "170.5500030517578",
         "164.50999450683594",
         "172.7899932861328",
         "162.00999450683594",
         "158.17999267578125"
        ],
        [
         "2020-03-10 00:00:00",
         "160.9199981689453",
         "150.6199951171875",
         "161.57000732421875",
         "166.27000427246094",
         "170.5500030517578",
         "164.50999450683594",
         "172.7899932861328",
         "162.00999450683594"
        ],
        [
         "2020-03-11 00:00:00",
         "153.6300048828125",
         "160.9199981689453",
         "150.6199951171875",
         "161.57000732421875",
         "166.27000427246094",
         "170.5500030517578",
         "164.50999450683594",
         "172.7899932861328"
        ],
        [
         "2020-03-12 00:00:00",
         "139.05999755859375",
         "153.6300048828125",
         "160.9199981689453",
         "150.6199951171875",
         "161.57000732421875",
         "166.27000427246094",
         "170.5500030517578",
         "164.50999450683594"
        ],
        [
         "2020-03-13 00:00:00",
         "158.8300018310547",
         "139.05999755859375",
         "153.6300048828125",
         "160.9199981689453",
         "150.6199951171875",
         "161.57000732421875",
         "166.27000427246094",
         "170.5500030517578"
        ],
        [
         "2020-03-16 00:00:00",
         "135.4199981689453",
         "158.8300018310547",
         "139.05999755859375",
         "153.6300048828125",
         "160.9199981689453",
         "150.6199951171875",
         "161.57000732421875",
         "166.27000427246094"
        ],
        [
         "2020-03-17 00:00:00",
         "146.57000732421875",
         "135.4199981689453",
         "158.8300018310547",
         "139.05999755859375",
         "153.6300048828125",
         "160.9199981689453",
         "150.6199951171875",
         "161.57000732421875"
        ],
        [
         "2020-03-18 00:00:00",
         "140.39999389648438",
         "146.57000732421875",
         "135.4199981689453",
         "158.8300018310547",
         "139.05999755859375",
         "153.6300048828125",
         "160.9199981689453",
         "150.6199951171875"
        ],
        [
         "2020-03-19 00:00:00",
         "142.7100067138672",
         "140.39999389648438",
         "146.57000732421875",
         "135.4199981689453",
         "158.8300018310547",
         "139.05999755859375",
         "153.6300048828125",
         "160.9199981689453"
        ],
        [
         "2020-03-20 00:00:00",
         "137.35000610351562",
         "142.7100067138672",
         "140.39999389648438",
         "146.57000732421875",
         "135.4199981689453",
         "158.8300018310547",
         "139.05999755859375",
         "153.6300048828125"
        ],
        [
         "2020-03-23 00:00:00",
         "135.97999572753906",
         "137.35000610351562",
         "142.7100067138672",
         "140.39999389648438",
         "146.57000732421875",
         "135.4199981689453",
         "158.8300018310547",
         "139.05999755859375"
        ],
        [
         "2020-03-24 00:00:00",
         "148.33999633789062",
         "135.97999572753906",
         "137.35000610351562",
         "142.7100067138672",
         "140.39999389648438",
         "146.57000732421875",
         "135.4199981689453",
         "158.8300018310547"
        ],
        [
         "2020-03-25 00:00:00",
         "146.9199981689453",
         "148.33999633789062",
         "135.97999572753906",
         "137.35000610351562",
         "142.7100067138672",
         "140.39999389648438",
         "146.57000732421875",
         "135.4199981689453"
        ],
        [
         "2020-03-26 00:00:00",
         "156.11000061035156",
         "146.9199981689453",
         "148.33999633789062",
         "135.97999572753906",
         "137.35000610351562",
         "142.7100067138672",
         "140.39999389648438",
         "146.57000732421875"
        ],
        [
         "2020-03-27 00:00:00",
         "149.6999969482422",
         "156.11000061035156",
         "146.9199981689453",
         "148.33999633789062",
         "135.97999572753906",
         "137.35000610351562",
         "142.7100067138672",
         "140.39999389648438"
        ],
        [
         "2020-03-30 00:00:00",
         "160.22999572753906",
         "149.6999969482422",
         "156.11000061035156",
         "146.9199981689453",
         "148.33999633789062",
         "135.97999572753906",
         "137.35000610351562",
         "142.7100067138672"
        ],
        [
         "2020-03-31 00:00:00",
         "157.7100067138672",
         "160.22999572753906",
         "149.6999969482422",
         "156.11000061035156",
         "146.9199981689453",
         "148.33999633789062",
         "135.97999572753906",
         "137.35000610351562"
        ],
        [
         "2020-04-01 00:00:00",
         "152.11000061035156",
         "157.7100067138672",
         "160.22999572753906",
         "149.6999969482422",
         "156.11000061035156",
         "146.9199981689453",
         "148.33999633789062",
         "135.97999572753906"
        ],
        [
         "2020-04-02 00:00:00",
         "155.25999450683594",
         "152.11000061035156",
         "157.7100067138672",
         "160.22999572753906",
         "149.6999969482422",
         "156.11000061035156",
         "146.9199981689453",
         "148.33999633789062"
        ],
        [
         "2020-04-03 00:00:00",
         "153.8300018310547",
         "155.25999450683594",
         "152.11000061035156",
         "157.7100067138672",
         "160.22999572753906",
         "149.6999969482422",
         "156.11000061035156",
         "146.9199981689453"
        ],
        [
         "2020-04-06 00:00:00",
         "165.27000427246094",
         "153.8300018310547",
         "155.25999450683594",
         "152.11000061035156",
         "157.7100067138672",
         "160.22999572753906",
         "149.6999969482422",
         "156.11000061035156"
        ],
        [
         "2020-04-07 00:00:00",
         "163.49000549316406",
         "165.27000427246094",
         "153.8300018310547",
         "155.25999450683594",
         "152.11000061035156",
         "157.7100067138672",
         "160.22999572753906",
         "149.6999969482422"
        ],
        [
         "2020-04-08 00:00:00",
         "165.1300048828125",
         "163.49000549316406",
         "165.27000427246094",
         "153.8300018310547",
         "155.25999450683594",
         "152.11000061035156",
         "157.7100067138672",
         "160.22999572753906"
        ],
        [
         "2020-04-09 00:00:00",
         "165.13999938964844",
         "165.1300048828125",
         "163.49000549316406",
         "165.27000427246094",
         "153.8300018310547",
         "155.25999450683594",
         "152.11000061035156",
         "157.7100067138672"
        ],
        [
         "2020-04-13 00:00:00",
         "165.50999450683594",
         "165.13999938964844",
         "165.1300048828125",
         "163.49000549316406",
         "165.27000427246094",
         "153.8300018310547",
         "155.25999450683594",
         "152.11000061035156"
        ],
        [
         "2020-04-14 00:00:00",
         "173.6999969482422",
         "165.50999450683594",
         "165.13999938964844",
         "165.1300048828125",
         "163.49000549316406",
         "165.27000427246094",
         "153.8300018310547",
         "155.25999450683594"
        ],
        [
         "2020-04-15 00:00:00",
         "171.8800048828125",
         "173.6999969482422",
         "165.50999450683594",
         "165.13999938964844",
         "165.1300048828125",
         "163.49000549316406",
         "165.27000427246094",
         "153.8300018310547"
        ],
        [
         "2020-04-16 00:00:00",
         "177.0399932861328",
         "171.8800048828125",
         "173.6999969482422",
         "165.50999450683594",
         "165.13999938964844",
         "165.1300048828125",
         "163.49000549316406",
         "165.27000427246094"
        ],
        [
         "2020-04-17 00:00:00",
         "178.60000610351562",
         "177.0399932861328",
         "171.8800048828125",
         "173.6999969482422",
         "165.50999450683594",
         "165.13999938964844",
         "165.1300048828125",
         "163.49000549316406"
        ],
        [
         "2020-04-20 00:00:00",
         "175.05999755859375",
         "178.60000610351562",
         "177.0399932861328",
         "171.8800048828125",
         "173.6999969482422",
         "165.50999450683594",
         "165.13999938964844",
         "165.1300048828125"
        ],
        [
         "2020-04-21 00:00:00",
         "167.82000732421875",
         "175.05999755859375",
         "178.60000610351562",
         "177.0399932861328",
         "171.8800048828125",
         "173.6999969482422",
         "165.50999450683594",
         "165.13999938964844"
        ],
        [
         "2020-04-22 00:00:00",
         "173.52000427246094",
         "167.82000732421875",
         "175.05999755859375",
         "178.60000610351562",
         "177.0399932861328",
         "171.8800048828125",
         "173.6999969482422",
         "165.50999450683594"
        ],
        [
         "2020-04-23 00:00:00",
         "171.4199981689453",
         "173.52000427246094",
         "167.82000732421875",
         "175.05999755859375",
         "178.60000610351562",
         "177.0399932861328",
         "171.8800048828125",
         "173.6999969482422"
        ],
        [
         "2020-04-24 00:00:00",
         "174.5500030517578",
         "171.4199981689453",
         "173.52000427246094",
         "167.82000732421875",
         "175.05999755859375",
         "178.60000610351562",
         "177.0399932861328",
         "171.8800048828125"
        ],
        [
         "2020-04-27 00:00:00",
         "174.0500030517578",
         "174.5500030517578",
         "171.4199981689453",
         "173.52000427246094",
         "167.82000732421875",
         "175.05999755859375",
         "178.60000610351562",
         "177.0399932861328"
        ],
        [
         "2020-04-28 00:00:00",
         "169.80999755859375",
         "174.0500030517578",
         "174.5500030517578",
         "171.4199981689453",
         "173.52000427246094",
         "167.82000732421875",
         "175.05999755859375",
         "178.60000610351562"
        ],
        [
         "2020-04-29 00:00:00",
         "177.42999267578125",
         "169.80999755859375",
         "174.0500030517578",
         "174.5500030517578",
         "171.4199981689453",
         "173.52000427246094",
         "167.82000732421875",
         "175.05999755859375"
        ],
        [
         "2020-04-30 00:00:00",
         "179.2100067138672",
         "177.42999267578125",
         "169.80999755859375",
         "174.0500030517578",
         "174.5500030517578",
         "171.4199981689453",
         "173.52000427246094",
         "167.82000732421875"
        ],
        [
         "2020-05-01 00:00:00",
         "174.57000732421875",
         "179.2100067138672",
         "177.42999267578125",
         "169.80999755859375",
         "174.0500030517578",
         "174.5500030517578",
         "171.4199981689453",
         "173.52000427246094"
        ],
        [
         "2020-05-04 00:00:00",
         "178.83999633789062",
         "174.57000732421875",
         "179.2100067138672",
         "177.42999267578125",
         "169.80999755859375",
         "174.0500030517578",
         "174.5500030517578",
         "171.4199981689453"
        ],
        [
         "2020-05-05 00:00:00",
         "180.75999450683597",
         "178.83999633789062",
         "174.57000732421875",
         "179.2100067138672",
         "177.42999267578125",
         "169.80999755859375",
         "174.0500030517578",
         "174.5500030517578"
        ],
        [
         "2020-05-06 00:00:00",
         "182.5399932861328",
         "180.75999450683597",
         "178.83999633789062",
         "174.57000732421875",
         "179.2100067138672",
         "177.42999267578125",
         "169.80999755859375",
         "174.0500030517578"
        ],
        [
         "2020-05-07 00:00:00",
         "183.6000061035156",
         "182.5399932861328",
         "180.75999450683597",
         "178.83999633789062",
         "174.57000732421875",
         "179.2100067138672",
         "177.42999267578125",
         "169.80999755859375"
        ],
        [
         "2020-05-08 00:00:00",
         "184.67999267578125",
         "183.6000061035156",
         "182.5399932861328",
         "180.75999450683597",
         "178.83999633789062",
         "174.57000732421875",
         "179.2100067138672",
         "177.42999267578125"
        ],
        [
         "2020-05-11 00:00:00",
         "186.7400054931641",
         "184.67999267578125",
         "183.6000061035156",
         "182.5399932861328",
         "180.75999450683597",
         "178.83999633789062",
         "174.57000732421875",
         "179.2100067138672"
        ],
        [
         "2020-05-12 00:00:00",
         "182.50999450683597",
         "186.7400054931641",
         "184.67999267578125",
         "183.6000061035156",
         "182.5399932861328",
         "180.75999450683597",
         "178.83999633789062",
         "174.57000732421875"
        ],
        [
         "2020-05-13 00:00:00",
         "179.75",
         "182.50999450683597",
         "186.7400054931641",
         "184.67999267578125",
         "183.6000061035156",
         "182.5399932861328",
         "180.75999450683597",
         "178.83999633789062"
        ],
        [
         "2020-05-14 00:00:00",
         "180.52999877929688",
         "179.75",
         "182.50999450683597",
         "186.7400054931641",
         "184.67999267578125",
         "183.6000061035156",
         "182.5399932861328",
         "180.75999450683597"
        ],
        [
         "2020-05-15 00:00:00",
         "183.16000366210935",
         "180.52999877929688",
         "179.75",
         "182.50999450683597",
         "186.7400054931641",
         "184.67999267578125",
         "183.6000061035156",
         "182.5399932861328"
        ],
        [
         "2020-05-18 00:00:00",
         "184.91000366210935",
         "183.16000366210935",
         "180.52999877929688",
         "179.75",
         "182.50999450683597",
         "186.7400054931641",
         "184.67999267578125",
         "183.6000061035156"
        ]
       ],
       "shape": {
        "columns": 8,
        "rows": 1247
       }
      },
      "text/html": [
       "<div>\n",
       "<style scoped>\n",
       "    .dataframe tbody tr th:only-of-type {\n",
       "        vertical-align: middle;\n",
       "    }\n",
       "\n",
       "    .dataframe tbody tr th {\n",
       "        vertical-align: top;\n",
       "    }\n",
       "\n",
       "    .dataframe thead th {\n",
       "        text-align: right;\n",
       "    }\n",
       "</style>\n",
       "<table border=\"1\" class=\"dataframe\">\n",
       "  <thead>\n",
       "    <tr style=\"text-align: right;\">\n",
       "      <th></th>\n",
       "      <th>Close</th>\n",
       "      <th>Close(t-1)</th>\n",
       "      <th>Close(t-2)</th>\n",
       "      <th>Close(t-3)</th>\n",
       "      <th>Close(t-4)</th>\n",
       "      <th>Close(t-5)</th>\n",
       "      <th>Close(t-6)</th>\n",
       "      <th>Close(t-7)</th>\n",
       "    </tr>\n",
       "    <tr>\n",
       "      <th>Date</th>\n",
       "      <th></th>\n",
       "      <th></th>\n",
       "      <th></th>\n",
       "      <th></th>\n",
       "      <th></th>\n",
       "      <th></th>\n",
       "      <th></th>\n",
       "      <th></th>\n",
       "    </tr>\n",
       "  </thead>\n",
       "  <tbody>\n",
       "    <tr>\n",
       "      <th>2020-03-09</th>\n",
       "      <td>150.619995</td>\n",
       "      <td>161.570007</td>\n",
       "      <td>166.270004</td>\n",
       "      <td>170.550003</td>\n",
       "      <td>164.509995</td>\n",
       "      <td>172.789993</td>\n",
       "      <td>162.009995</td>\n",
       "      <td>158.179993</td>\n",
       "    </tr>\n",
       "    <tr>\n",
       "      <th>2020-03-10</th>\n",
       "      <td>160.919998</td>\n",
       "      <td>150.619995</td>\n",
       "      <td>161.570007</td>\n",
       "      <td>166.270004</td>\n",
       "      <td>170.550003</td>\n",
       "      <td>164.509995</td>\n",
       "      <td>172.789993</td>\n",
       "      <td>162.009995</td>\n",
       "    </tr>\n",
       "    <tr>\n",
       "      <th>2020-03-11</th>\n",
       "      <td>153.630005</td>\n",
       "      <td>160.919998</td>\n",
       "      <td>150.619995</td>\n",
       "      <td>161.570007</td>\n",
       "      <td>166.270004</td>\n",
       "      <td>170.550003</td>\n",
       "      <td>164.509995</td>\n",
       "      <td>172.789993</td>\n",
       "    </tr>\n",
       "    <tr>\n",
       "      <th>2020-03-12</th>\n",
       "      <td>139.059998</td>\n",
       "      <td>153.630005</td>\n",
       "      <td>160.919998</td>\n",
       "      <td>150.619995</td>\n",
       "      <td>161.570007</td>\n",
       "      <td>166.270004</td>\n",
       "      <td>170.550003</td>\n",
       "      <td>164.509995</td>\n",
       "    </tr>\n",
       "    <tr>\n",
       "      <th>2020-03-13</th>\n",
       "      <td>158.830002</td>\n",
       "      <td>139.059998</td>\n",
       "      <td>153.630005</td>\n",
       "      <td>160.919998</td>\n",
       "      <td>150.619995</td>\n",
       "      <td>161.570007</td>\n",
       "      <td>166.270004</td>\n",
       "      <td>170.550003</td>\n",
       "    </tr>\n",
       "    <tr>\n",
       "      <th>...</th>\n",
       "      <td>...</td>\n",
       "      <td>...</td>\n",
       "      <td>...</td>\n",
       "      <td>...</td>\n",
       "      <td>...</td>\n",
       "      <td>...</td>\n",
       "      <td>...</td>\n",
       "      <td>...</td>\n",
       "    </tr>\n",
       "    <tr>\n",
       "      <th>2025-02-14</th>\n",
       "      <td>408.429993</td>\n",
       "      <td>410.540009</td>\n",
       "      <td>409.040009</td>\n",
       "      <td>411.440002</td>\n",
       "      <td>412.220001</td>\n",
       "      <td>409.750000</td>\n",
       "      <td>415.820007</td>\n",
       "      <td>413.290009</td>\n",
       "    </tr>\n",
       "    <tr>\n",
       "      <th>2025-02-18</th>\n",
       "      <td>409.640015</td>\n",
       "      <td>408.429993</td>\n",
       "      <td>410.540009</td>\n",
       "      <td>409.040009</td>\n",
       "      <td>411.440002</td>\n",
       "      <td>412.220001</td>\n",
       "      <td>409.750000</td>\n",
       "      <td>415.820007</td>\n",
       "    </tr>\n",
       "    <tr>\n",
       "      <th>2025-02-19</th>\n",
       "      <td>414.769989</td>\n",
       "      <td>409.640015</td>\n",
       "      <td>408.429993</td>\n",
       "      <td>410.540009</td>\n",
       "      <td>409.040009</td>\n",
       "      <td>411.440002</td>\n",
       "      <td>412.220001</td>\n",
       "      <td>409.750000</td>\n",
       "    </tr>\n",
       "    <tr>\n",
       "      <th>2025-02-20</th>\n",
       "      <td>416.130005</td>\n",
       "      <td>414.769989</td>\n",
       "      <td>409.640015</td>\n",
       "      <td>408.429993</td>\n",
       "      <td>410.540009</td>\n",
       "      <td>409.040009</td>\n",
       "      <td>411.440002</td>\n",
       "      <td>412.220001</td>\n",
       "    </tr>\n",
       "    <tr>\n",
       "      <th>2025-02-21</th>\n",
       "      <td>408.209991</td>\n",
       "      <td>416.130005</td>\n",
       "      <td>414.769989</td>\n",
       "      <td>409.640015</td>\n",
       "      <td>408.429993</td>\n",
       "      <td>410.540009</td>\n",
       "      <td>409.040009</td>\n",
       "      <td>411.440002</td>\n",
       "    </tr>\n",
       "  </tbody>\n",
       "</table>\n",
       "<p>1247 rows × 8 columns</p>\n",
       "</div>"
      ],
      "text/plain": [
       "                 Close  Close(t-1)  Close(t-2)  Close(t-3)  Close(t-4)  \\\n",
       "Date                                                                     \n",
       "2020-03-09  150.619995  161.570007  166.270004  170.550003  164.509995   \n",
       "2020-03-10  160.919998  150.619995  161.570007  166.270004  170.550003   \n",
       "2020-03-11  153.630005  160.919998  150.619995  161.570007  166.270004   \n",
       "2020-03-12  139.059998  153.630005  160.919998  150.619995  161.570007   \n",
       "2020-03-13  158.830002  139.059998  153.630005  160.919998  150.619995   \n",
       "...                ...         ...         ...         ...         ...   \n",
       "2025-02-14  408.429993  410.540009  409.040009  411.440002  412.220001   \n",
       "2025-02-18  409.640015  408.429993  410.540009  409.040009  411.440002   \n",
       "2025-02-19  414.769989  409.640015  408.429993  410.540009  409.040009   \n",
       "2025-02-20  416.130005  414.769989  409.640015  408.429993  410.540009   \n",
       "2025-02-21  408.209991  416.130005  414.769989  409.640015  408.429993   \n",
       "\n",
       "            Close(t-5)  Close(t-6)  Close(t-7)  \n",
       "Date                                            \n",
       "2020-03-09  172.789993  162.009995  158.179993  \n",
       "2020-03-10  164.509995  172.789993  162.009995  \n",
       "2020-03-11  170.550003  164.509995  172.789993  \n",
       "2020-03-12  166.270004  170.550003  164.509995  \n",
       "2020-03-13  161.570007  166.270004  170.550003  \n",
       "...                ...         ...         ...  \n",
       "2025-02-14  409.750000  415.820007  413.290009  \n",
       "2025-02-18  412.220001  409.750000  415.820007  \n",
       "2025-02-19  411.440002  412.220001  409.750000  \n",
       "2025-02-20  409.040009  411.440002  412.220001  \n",
       "2025-02-21  410.540009  409.040009  411.440002  \n",
       "\n",
       "[1247 rows x 8 columns]"
      ]
     },
     "execution_count": 97,
     "metadata": {},
     "output_type": "execute_result"
    }
   ],
   "source": [
    "from copy import deepcopy as dc\n",
    "\n",
    "def prepare_dataframe_for_lstm(df, n_steps):\n",
    "    df = dc(df)\n",
    "\n",
    "    df.set_index('Date', inplace=True)\n",
    "\n",
    "    for i in range(1, n_steps+1):\n",
    "        df[f'Close(t-{i})'] = df['Close'].shift(i)\n",
    "\n",
    "    df.dropna(inplace=True)\n",
    "\n",
    "    return df\n",
    "\n",
    "# construct dataframe with 7-day lookback\n",
    "lookback = 7\n",
    "shifted_df = prepare_dataframe_for_lstm(data, lookback)\n",
    "\n",
    "shifted_df"
   ]
  },
  {
   "cell_type": "code",
   "execution_count": 98,
   "metadata": {},
   "outputs": [
    {
     "data": {
      "text/plain": [
       "<matplotlib.legend.Legend at 0x1f22d10ea10>"
      ]
     },
     "execution_count": 98,
     "metadata": {},
     "output_type": "execute_result"
    },
    {
     "data": {
      "image/png": "[encoded data removed]",
      "text/plain": [
       "<Figure size 640x480 with 1 Axes>"
      ]
     },
     "metadata": {},
     "output_type": "display_data"
    }
   ],
   "source": [
    "dates=shifted_df.index\n",
    "shifted_df=shifted_df.to_numpy()\n",
    "X = shifted_df[:,1:-1].reshape((len(dates), shifted_df.shape[1]-2, 1))\n",
    "y = shifted_df[:, 1]\n",
    "X = dc(np.flip(X, axis=1))\n",
    "q_80 = int(len(dates) * .8)\n",
    "q_90 = int(len(dates) * .9)\n",
    "\n",
    "dates_train, X_train, y_train = dates[:q_80], X[:q_80], y[:q_80]\n",
    "dates_val, X_val, y_val = dates[q_80:q_90], X[q_80:q_90], y[q_80:q_90]\n",
    "dates_test, X_test, y_test = dates[q_90:], X[q_90:], y[q_90:]\n",
    "\n",
    "plt.plot(dates_train, y_train)\n",
    "plt.plot(dates_val, y_val)\n",
    "plt.plot(dates_test, y_test)\n",
    "\n",
    "plt.legend(['Train', 'Validation', 'Test'])"
   ]
  },
  {
   "cell_type": "markdown",
   "metadata": {},
   "source": [
    "### 2. Split data into training and test sets with a 80/20 split ###\n"
   ]
  },
  {
   "cell_type": "markdown",
   "metadata": {},
   "source": [
    "### 3. Convert the numpy arrays to PyTorch tensors ###\n",
    "need to reshape, and add .to(device)"
   ]
  },
  {
   "cell_type": "code",
   "execution_count": 99,
   "metadata": {},
   "outputs": [
    {
     "name": "stdout",
     "output_type": "stream",
     "text": [
      "Epoch 1/100\n",
      "\u001b[1m32/32\u001b[0m \u001b[32m━━━━━━━━━━━━━━━━━━━━\u001b[0m\u001b[37m\u001b[0m \u001b[1m4s\u001b[0m 18ms/step - loss: 76414.2266 - mean_absolute_error: 270.7337 - val_loss: 176576.4062 - val_mean_absolute_error: 419.8506\n",
      "Epoch 2/100\n",
      "\u001b[1m32/32\u001b[0m \u001b[32m━━━━━━━━━━━━━━━━━━━━\u001b[0m\u001b[37m\u001b[0m \u001b[1m0s\u001b[0m 8ms/step - loss: 74605.1875 - mean_absolute_error: 267.3644 - val_loss: 166218.3906 - val_mean_absolute_error: 407.3285\n",
      "Epoch 3/100\n",
      "\u001b[1m32/32\u001b[0m \u001b[32m━━━━━━━━━━━━━━━━━━━━\u001b[0m\u001b[37m\u001b[0m \u001b[1m0s\u001b[0m 7ms/step - loss: 66697.5312 - mean_absolute_error: 251.6791 - val_loss: 138685.9531 - val_mean_absolute_error: 372.0002\n",
      "Epoch 4/100\n",
      "\u001b[1m32/32\u001b[0m \u001b[32m━━━━━━━━━━━━━━━━━━━━\u001b[0m\u001b[37m\u001b[0m \u001b[1m0s\u001b[0m 7ms/step - loss: 46930.7695 - mean_absolute_error: 208.1501 - val_loss: 92570.6094 - val_mean_absolute_error: 303.7562\n",
      "Epoch 5/100\n",
      "\u001b[1m32/32\u001b[0m \u001b[32m━━━━━━━━━━━━━━━━━━━━\u001b[0m\u001b[37m\u001b[0m \u001b[1m0s\u001b[0m 13ms/step - loss: 19391.3633 - mean_absolute_error: 126.6452 - val_loss: 44171.7578 - val_mean_absolute_error: 209.4513\n",
      "Epoch 6/100\n",
      "\u001b[1m32/32\u001b[0m \u001b[32m━━━━━━━━━━━━━━━━━━━━\u001b[0m\u001b[37m\u001b[0m \u001b[1m0s\u001b[0m 7ms/step - loss: 5158.4790 - mean_absolute_error: 56.6914 - val_loss: 23784.4004 - val_mean_absolute_error: 153.2460\n",
      "Epoch 7/100\n",
      "\u001b[1m32/32\u001b[0m \u001b[32m━━━━━━━━━━━━━━━━━━━━\u001b[0m\u001b[37m\u001b[0m \u001b[1m0s\u001b[0m 7ms/step - loss: 2803.5305 - mean_absolute_error: 42.9998 - val_loss: 21352.2109 - val_mean_absolute_error: 145.1300\n",
      "Epoch 8/100\n",
      "\u001b[1m32/32\u001b[0m \u001b[32m━━━━━━━━━━━━━━━━━━━━\u001b[0m\u001b[37m\u001b[0m \u001b[1m0s\u001b[0m 7ms/step - loss: 2325.3582 - mean_absolute_error: 38.5422 - val_loss: 17551.0020 - val_mean_absolute_error: 131.3967\n",
      "Epoch 9/100\n",
      "\u001b[1m32/32\u001b[0m \u001b[32m━━━━━━━━━━━━━━━━━━━━\u001b[0m\u001b[37m\u001b[0m \u001b[1m0s\u001b[0m 7ms/step - loss: 1238.5629 - mean_absolute_error: 25.4229 - val_loss: 11547.6865 - val_mean_absolute_error: 106.0918\n",
      "Epoch 10/100\n",
      "\u001b[1m32/32\u001b[0m \u001b[32m━━━━━━━━━━━━━━━━━━━━\u001b[0m\u001b[37m\u001b[0m \u001b[1m0s\u001b[0m 7ms/step - loss: 359.3426 - mean_absolute_error: 10.0780 - val_loss: 7923.9590 - val_mean_absolute_error: 87.3427\n",
      "Epoch 11/100\n",
      "\u001b[1m32/32\u001b[0m \u001b[32m━━━━━━━━━━━━━━━━━━━━\u001b[0m\u001b[37m\u001b[0m \u001b[1m0s\u001b[0m 10ms/step - loss: 161.8757 - mean_absolute_error: 5.7382 - val_loss: 6144.2842 - val_mean_absolute_error: 76.4985\n",
      "Epoch 12/100\n",
      "\u001b[1m32/32\u001b[0m \u001b[32m━━━━━━━━━━━━━━━━━━━━\u001b[0m\u001b[37m\u001b[0m \u001b[1m0s\u001b[0m 8ms/step - loss: 122.8985 - mean_absolute_error: 5.9528 - val_loss: 4803.4458 - val_mean_absolute_error: 67.1691\n",
      "Epoch 13/100\n",
      "\u001b[1m32/32\u001b[0m \u001b[32m━━━━━━━━━━━━━━━━━━━━\u001b[0m\u001b[37m\u001b[0m \u001b[1m0s\u001b[0m 7ms/step - loss: 92.6930 - mean_absolute_error: 4.3048 - val_loss: 3672.2104 - val_mean_absolute_error: 58.1675\n",
      "Epoch 14/100\n",
      "\u001b[1m32/32\u001b[0m \u001b[32m━━━━━━━━━━━━━━━━━━━━\u001b[0m\u001b[37m\u001b[0m \u001b[1m0s\u001b[0m 7ms/step - loss: 58.0906 - mean_absolute_error: 3.3880 - val_loss: 3053.0520 - val_mean_absolute_error: 52.6110\n",
      "Epoch 15/100\n",
      "\u001b[1m32/32\u001b[0m \u001b[32m━━━━━━━━━━━━━━━━━━━━\u001b[0m\u001b[37m\u001b[0m \u001b[1m0s\u001b[0m 7ms/step - loss: 40.8646 - mean_absolute_error: 3.1288 - val_loss: 2539.2793 - val_mean_absolute_error: 47.5162\n",
      "Epoch 16/100\n",
      "\u001b[1m32/32\u001b[0m \u001b[32m━━━━━━━━━━━━━━━━━━━━\u001b[0m\u001b[37m\u001b[0m \u001b[1m0s\u001b[0m 12ms/step - loss: 29.9215 - mean_absolute_error: 2.4971 - val_loss: 2183.3867 - val_mean_absolute_error: 43.6369\n",
      "Epoch 17/100\n",
      "\u001b[1m32/32\u001b[0m \u001b[32m━━━━━━━━━━━━━━━━━━━━\u001b[0m\u001b[37m\u001b[0m \u001b[1m0s\u001b[0m 7ms/step - loss: 16.3257 - mean_absolute_error: 1.8881 - val_loss: 1911.2622 - val_mean_absolute_error: 40.4601\n",
      "Epoch 18/100\n",
      "\u001b[1m32/32\u001b[0m \u001b[32m━━━━━━━━━━━━━━━━━━━━\u001b[0m\u001b[37m\u001b[0m \u001b[1m0s\u001b[0m 7ms/step - loss: 22.8388 - mean_absolute_error: 2.2970 - val_loss: 1644.9875 - val_mean_absolute_error: 37.0524\n",
      "Epoch 19/100\n",
      "\u001b[1m32/32\u001b[0m \u001b[32m━━━━━━━━━━━━━━━━━━━━\u001b[0m\u001b[37m\u001b[0m \u001b[1m0s\u001b[0m 7ms/step - loss: 18.8650 - mean_absolute_error: 1.9411 - val_loss: 1436.6299 - val_mean_absolute_error: 34.1235\n",
      "Epoch 20/100\n",
      "\u001b[1m32/32\u001b[0m \u001b[32m━━━━━━━━━━━━━━━━━━━━\u001b[0m\u001b[37m\u001b[0m \u001b[1m0s\u001b[0m 8ms/step - loss: 14.7640 - mean_absolute_error: 2.1503 - val_loss: 1312.3657 - val_mean_absolute_error: 32.4466\n",
      "Epoch 21/100\n",
      "\u001b[1m32/32\u001b[0m \u001b[32m━━━━━━━━━━━━━━━━━━━━\u001b[0m\u001b[37m\u001b[0m \u001b[1m0s\u001b[0m 9ms/step - loss: 9.5044 - mean_absolute_error: 1.8563 - val_loss: 1164.2568 - val_mean_absolute_error: 30.0530\n",
      "Epoch 22/100\n",
      "\u001b[1m32/32\u001b[0m \u001b[32m━━━━━━━━━━━━━━━━━━━━\u001b[0m\u001b[37m\u001b[0m \u001b[1m0s\u001b[0m 10ms/step - loss: 8.5606 - mean_absolute_error: 1.3990 - val_loss: 1092.0498 - val_mean_absolute_error: 29.3361\n",
      "Epoch 23/100\n",
      "\u001b[1m32/32\u001b[0m \u001b[32m━━━━━━━━━━━━━━━━━━━━\u001b[0m\u001b[37m\u001b[0m \u001b[1m0s\u001b[0m 8ms/step - loss: 9.7385 - mean_absolute_error: 1.7584 - val_loss: 967.0550 - val_mean_absolute_error: 26.7624\n",
      "Epoch 24/100\n",
      "\u001b[1m32/32\u001b[0m \u001b[32m━━━━━━━━━━━━━━━━━━━━\u001b[0m\u001b[37m\u001b[0m \u001b[1m0s\u001b[0m 8ms/step - loss: 5.5729 - mean_absolute_error: 1.3730 - val_loss: 850.1583 - val_mean_absolute_error: 24.4717\n",
      "Epoch 25/100\n",
      "\u001b[1m32/32\u001b[0m \u001b[32m━━━━━━━━━━━━━━━━━━━━\u001b[0m\u001b[37m\u001b[0m \u001b[1m0s\u001b[0m 9ms/step - loss: 6.3568 - mean_absolute_error: 1.3616 - val_loss: 768.2110 - val_mean_absolute_error: 22.8091\n",
      "Epoch 26/100\n",
      "\u001b[1m32/32\u001b[0m \u001b[32m━━━━━━━━━━━━━━━━━━━━\u001b[0m\u001b[37m\u001b[0m \u001b[1m0s\u001b[0m 10ms/step - loss: 5.6681 - mean_absolute_error: 1.4660 - val_loss: 719.4771 - val_mean_absolute_error: 21.8351\n",
      "Epoch 27/100\n",
      "\u001b[1m32/32\u001b[0m \u001b[32m━━━━━━━━━━━━━━━━━━━━\u001b[0m\u001b[37m\u001b[0m \u001b[1m1s\u001b[0m 15ms/step - loss: 8.6884 - mean_absolute_error: 1.9085 - val_loss: 693.1620 - val_mean_absolute_error: 21.5448\n",
      "Epoch 28/100\n",
      "\u001b[1m32/32\u001b[0m \u001b[32m━━━━━━━━━━━━━━━━━━━━\u001b[0m\u001b[37m\u001b[0m \u001b[1m0s\u001b[0m 9ms/step - loss: 3.6582 - mean_absolute_error: 1.2567 - val_loss: 657.9164 - val_mean_absolute_error: 20.8655\n",
      "Epoch 29/100\n",
      "\u001b[1m32/32\u001b[0m \u001b[32m━━━━━━━━━━━━━━━━━━━━\u001b[0m\u001b[37m\u001b[0m \u001b[1m0s\u001b[0m 8ms/step - loss: 4.3334 - mean_absolute_error: 1.3365 - val_loss: 606.3137 - val_mean_absolute_error: 19.7540\n",
      "Epoch 30/100\n",
      "\u001b[1m32/32\u001b[0m \u001b[32m━━━━━━━━━━━━━━━━━━━━\u001b[0m\u001b[37m\u001b[0m \u001b[1m0s\u001b[0m 8ms/step - loss: 4.0376 - mean_absolute_error: 1.2117 - val_loss: 571.0812 - val_mean_absolute_error: 18.8527\n",
      "Epoch 31/100\n",
      "\u001b[1m32/32\u001b[0m \u001b[32m━━━━━━━━━━━━━━━━━━━━\u001b[0m\u001b[37m\u001b[0m \u001b[1m0s\u001b[0m 8ms/step - loss: 3.2166 - mean_absolute_error: 1.1992 - val_loss: 546.5703 - val_mean_absolute_error: 18.3379\n",
      "Epoch 32/100\n",
      "\u001b[1m32/32\u001b[0m \u001b[32m━━━━━━━━━━━━━━━━━━━━\u001b[0m\u001b[37m\u001b[0m \u001b[1m0s\u001b[0m 9ms/step - loss: 2.9767 - mean_absolute_error: 1.1271 - val_loss: 529.1979 - val_mean_absolute_error: 17.9922\n",
      "Epoch 33/100\n",
      "\u001b[1m32/32\u001b[0m \u001b[32m━━━━━━━━━━━━━━━━━━━━\u001b[0m\u001b[37m\u001b[0m \u001b[1m0s\u001b[0m 8ms/step - loss: 2.6127 - mean_absolute_error: 0.9925 - val_loss: 514.5103 - val_mean_absolute_error: 17.6811\n",
      "Epoch 34/100\n",
      "\u001b[1m32/32\u001b[0m \u001b[32m━━━━━━━━━━━━━━━━━━━━\u001b[0m\u001b[37m\u001b[0m \u001b[1m0s\u001b[0m 8ms/step - loss: 2.8349 - mean_absolute_error: 1.1958 - val_loss: 488.0512 - val_mean_absolute_error: 17.1713\n",
      "Epoch 35/100\n",
      "\u001b[1m32/32\u001b[0m \u001b[32m━━━━━━━━━━━━━━━━━━━━\u001b[0m\u001b[37m\u001b[0m \u001b[1m0s\u001b[0m 8ms/step - loss: 2.3789 - mean_absolute_error: 0.9834 - val_loss: 480.5331 - val_mean_absolute_error: 17.0553\n",
      "Epoch 36/100\n",
      "\u001b[1m32/32\u001b[0m \u001b[32m━━━━━━━━━━━━━━━━━━━━\u001b[0m\u001b[37m\u001b[0m \u001b[1m0s\u001b[0m 7ms/step - loss: 5.0665 - mean_absolute_error: 1.3494 - val_loss: 459.7535 - val_mean_absolute_error: 16.4248\n",
      "Epoch 37/100\n",
      "\u001b[1m32/32\u001b[0m \u001b[32m━━━━━━━━━━━━━━━━━━━━\u001b[0m\u001b[37m\u001b[0m \u001b[1m0s\u001b[0m 10ms/step - loss: 2.4887 - mean_absolute_error: 1.1206 - val_loss: 435.9390 - val_mean_absolute_error: 15.7991\n",
      "Epoch 38/100\n",
      "\u001b[1m32/32\u001b[0m \u001b[32m━━━━━━━━━━━━━━━━━━━━\u001b[0m\u001b[37m\u001b[0m \u001b[1m0s\u001b[0m 8ms/step - loss: 2.0479 - mean_absolute_error: 0.9874 - val_loss: 422.4984 - val_mean_absolute_error: 15.3699\n",
      "Epoch 39/100\n",
      "\u001b[1m32/32\u001b[0m \u001b[32m━━━━━━━━━━━━━━━━━━━━\u001b[0m\u001b[37m\u001b[0m \u001b[1m0s\u001b[0m 13ms/step - loss: 1.8724 - mean_absolute_error: 0.7622 - val_loss: 416.2779 - val_mean_absolute_error: 15.3579\n",
      "Epoch 40/100\n",
      "\u001b[1m32/32\u001b[0m \u001b[32m━━━━━━━━━━━━━━━━━━━━\u001b[0m\u001b[37m\u001b[0m \u001b[1m0s\u001b[0m 9ms/step - loss: 1.4337 - mean_absolute_error: 0.6376 - val_loss: 405.9909 - val_mean_absolute_error: 15.1256\n",
      "Epoch 41/100\n",
      "\u001b[1m32/32\u001b[0m \u001b[32m━━━━━━━━━━━━━━━━━━━━\u001b[0m\u001b[37m\u001b[0m \u001b[1m0s\u001b[0m 8ms/step - loss: 1.3875 - mean_absolute_error: 0.6967 - val_loss: 399.4715 - val_mean_absolute_error: 14.9134\n",
      "Epoch 42/100\n",
      "\u001b[1m32/32\u001b[0m \u001b[32m━━━━━━━━━━━━━━━━━━━━\u001b[0m\u001b[37m\u001b[0m \u001b[1m0s\u001b[0m 8ms/step - loss: 3.1403 - mean_absolute_error: 1.2554 - val_loss: 395.2227 - val_mean_absolute_error: 15.1523\n",
      "Epoch 43/100\n",
      "\u001b[1m32/32\u001b[0m \u001b[32m━━━━━━━━━━━━━━━━━━━━\u001b[0m\u001b[37m\u001b[0m \u001b[1m0s\u001b[0m 10ms/step - loss: 2.1427 - mean_absolute_error: 1.0065 - val_loss: 381.8649 - val_mean_absolute_error: 14.4231\n",
      "Epoch 44/100\n",
      "\u001b[1m32/32\u001b[0m \u001b[32m━━━━━━━━━━━━━━━━━━━━\u001b[0m\u001b[37m\u001b[0m \u001b[1m0s\u001b[0m 8ms/step - loss: 1.0002 - mean_absolute_error: 0.5607 - val_loss: 389.9317 - val_mean_absolute_error: 15.0903\n",
      "Epoch 45/100\n",
      "\u001b[1m32/32\u001b[0m \u001b[32m━━━━━━━━━━━━━━━━━━━━\u001b[0m\u001b[37m\u001b[0m \u001b[1m0s\u001b[0m 10ms/step - loss: 2.4230 - mean_absolute_error: 0.8825 - val_loss: 373.0005 - val_mean_absolute_error: 14.3276\n",
      "Epoch 46/100\n",
      "\u001b[1m32/32\u001b[0m \u001b[32m━━━━━━━━━━━━━━━━━━━━\u001b[0m\u001b[37m\u001b[0m \u001b[1m0s\u001b[0m 11ms/step - loss: 2.3789 - mean_absolute_error: 1.0843 - val_loss: 360.5176 - val_mean_absolute_error: 13.8725\n",
      "Epoch 47/100\n",
      "\u001b[1m32/32\u001b[0m \u001b[32m━━━━━━━━━━━━━━━━━━━━\u001b[0m\u001b[37m\u001b[0m \u001b[1m0s\u001b[0m 10ms/step - loss: 1.0699 - mean_absolute_error: 0.6433 - val_loss: 355.5657 - val_mean_absolute_error: 13.7460\n",
      "Epoch 48/100\n",
      "\u001b[1m32/32\u001b[0m \u001b[32m━━━━━━━━━━━━━━━━━━━━\u001b[0m\u001b[37m\u001b[0m \u001b[1m0s\u001b[0m 9ms/step - loss: 1.6927 - mean_absolute_error: 0.8784 - val_loss: 351.6740 - val_mean_absolute_error: 13.6815\n",
      "Epoch 49/100\n",
      "\u001b[1m32/32\u001b[0m \u001b[32m━━━━━━━━━━━━━━━━━━━━\u001b[0m\u001b[37m\u001b[0m \u001b[1m0s\u001b[0m 8ms/step - loss: 1.3232 - mean_absolute_error: 0.7559 - val_loss: 349.1558 - val_mean_absolute_error: 13.6047\n",
      "Epoch 50/100\n",
      "\u001b[1m32/32\u001b[0m \u001b[32m━━━━━━━━━━━━━━━━━━━━\u001b[0m\u001b[37m\u001b[0m \u001b[1m0s\u001b[0m 8ms/step - loss: 1.1375 - mean_absolute_error: 0.6194 - val_loss: 345.4968 - val_mean_absolute_error: 13.7953\n",
      "Epoch 51/100\n",
      "\u001b[1m32/32\u001b[0m \u001b[32m━━━━━━━━━━━━━━━━━━━━\u001b[0m\u001b[37m\u001b[0m \u001b[1m0s\u001b[0m 11ms/step - loss: 3.9767 - mean_absolute_error: 1.2156 - val_loss: 334.1591 - val_mean_absolute_error: 13.6084\n",
      "Epoch 52/100\n",
      "\u001b[1m32/32\u001b[0m \u001b[32m━━━━━━━━━━━━━━━━━━━━\u001b[0m\u001b[37m\u001b[0m \u001b[1m0s\u001b[0m 8ms/step - loss: 2.1565 - mean_absolute_error: 0.9282 - val_loss: 323.3435 - val_mean_absolute_error: 12.9202\n",
      "Epoch 53/100\n",
      "\u001b[1m32/32\u001b[0m \u001b[32m━━━━━━━━━━━━━━━━━━━━\u001b[0m\u001b[37m\u001b[0m \u001b[1m0s\u001b[0m 8ms/step - loss: 2.6158 - mean_absolute_error: 0.9987 - val_loss: 333.5048 - val_mean_absolute_error: 13.2273\n",
      "Epoch 54/100\n",
      "\u001b[1m32/32\u001b[0m \u001b[32m━━━━━━━━━━━━━━━━━━━━\u001b[0m\u001b[37m\u001b[0m \u001b[1m0s\u001b[0m 8ms/step - loss: 2.1297 - mean_absolute_error: 1.1600 - val_loss: 317.9289 - val_mean_absolute_error: 12.7920\n",
      "Epoch 55/100\n",
      "\u001b[1m32/32\u001b[0m \u001b[32m━━━━━━━━━━━━━━━━━━━━\u001b[0m\u001b[37m\u001b[0m \u001b[1m0s\u001b[0m 8ms/step - loss: 1.3645 - mean_absolute_error: 0.8359 - val_loss: 316.6180 - val_mean_absolute_error: 12.7324\n",
      "Epoch 56/100\n",
      "\u001b[1m32/32\u001b[0m \u001b[32m━━━━━━━━━━━━━━━━━━━━\u001b[0m\u001b[37m\u001b[0m \u001b[1m0s\u001b[0m 8ms/step - loss: 2.1857 - mean_absolute_error: 1.0155 - val_loss: 307.6783 - val_mean_absolute_error: 12.5331\n",
      "Epoch 57/100\n",
      "\u001b[1m32/32\u001b[0m \u001b[32m━━━━━━━━━━━━━━━━━━━━\u001b[0m\u001b[37m\u001b[0m \u001b[1m0s\u001b[0m 12ms/step - loss: 1.6552 - mean_absolute_error: 0.9135 - val_loss: 309.3506 - val_mean_absolute_error: 12.5473\n",
      "Epoch 58/100\n",
      "\u001b[1m32/32\u001b[0m \u001b[32m━━━━━━━━━━━━━━━━━━━━\u001b[0m\u001b[37m\u001b[0m \u001b[1m0s\u001b[0m 10ms/step - loss: 0.9890 - mean_absolute_error: 0.6087 - val_loss: 310.1610 - val_mean_absolute_error: 12.6253\n",
      "Epoch 59/100\n",
      "\u001b[1m32/32\u001b[0m \u001b[32m━━━━━━━━━━━━━━━━━━━━\u001b[0m\u001b[37m\u001b[0m \u001b[1m0s\u001b[0m 8ms/step - loss: 1.1138 - mean_absolute_error: 0.5956 - val_loss: 308.2360 - val_mean_absolute_error: 12.5570\n",
      "Epoch 60/100\n",
      "\u001b[1m32/32\u001b[0m \u001b[32m━━━━━━━━━━━━━━━━━━━━\u001b[0m\u001b[37m\u001b[0m \u001b[1m0s\u001b[0m 7ms/step - loss: 1.9015 - mean_absolute_error: 0.9808 - val_loss: 303.3074 - val_mean_absolute_error: 12.4052\n",
      "Epoch 61/100\n",
      "\u001b[1m32/32\u001b[0m \u001b[32m━━━━━━━━━━━━━━━━━━━━\u001b[0m\u001b[37m\u001b[0m \u001b[1m0s\u001b[0m 8ms/step - loss: 1.4499 - mean_absolute_error: 0.7104 - val_loss: 307.0541 - val_mean_absolute_error: 12.5323\n",
      "Epoch 62/100\n",
      "\u001b[1m32/32\u001b[0m \u001b[32m━━━━━━━━━━━━━━━━━━━━\u001b[0m\u001b[37m\u001b[0m \u001b[1m0s\u001b[0m 8ms/step - loss: 2.5378 - mean_absolute_error: 1.2659 - val_loss: 289.8947 - val_mean_absolute_error: 11.9817\n",
      "Epoch 63/100\n",
      "\u001b[1m32/32\u001b[0m \u001b[32m━━━━━━━━━━━━━━━━━━━━\u001b[0m\u001b[37m\u001b[0m \u001b[1m0s\u001b[0m 13ms/step - loss: 1.5921 - mean_absolute_error: 0.9461 - val_loss: 302.2133 - val_mean_absolute_error: 12.5601\n",
      "Epoch 64/100\n",
      "\u001b[1m32/32\u001b[0m \u001b[32m━━━━━━━━━━━━━━━━━━━━\u001b[0m\u001b[37m\u001b[0m \u001b[1m0s\u001b[0m 11ms/step - loss: 2.0981 - mean_absolute_error: 1.0945 - val_loss: 323.2443 - val_mean_absolute_error: 13.7941\n",
      "Epoch 65/100\n",
      "\u001b[1m32/32\u001b[0m \u001b[32m━━━━━━━━━━━━━━━━━━━━\u001b[0m\u001b[37m\u001b[0m \u001b[1m0s\u001b[0m 10ms/step - loss: 5.0369 - mean_absolute_error: 1.2575 - val_loss: 283.7654 - val_mean_absolute_error: 11.9834\n",
      "Epoch 66/100\n",
      "\u001b[1m32/32\u001b[0m \u001b[32m━━━━━━━━━━━━━━━━━━━━\u001b[0m\u001b[37m\u001b[0m \u001b[1m0s\u001b[0m 9ms/step - loss: 2.3719 - mean_absolute_error: 1.0248 - val_loss: 326.8439 - val_mean_absolute_error: 14.2227\n",
      "Epoch 67/100\n",
      "\u001b[1m32/32\u001b[0m \u001b[32m━━━━━━━━━━━━━━━━━━━━\u001b[0m\u001b[37m\u001b[0m \u001b[1m0s\u001b[0m 13ms/step - loss: 20.4249 - mean_absolute_error: 3.0320 - val_loss: 954.9543 - val_mean_absolute_error: 27.4332\n",
      "Epoch 68/100\n",
      "\u001b[1m32/32\u001b[0m \u001b[32m━━━━━━━━━━━━━━━━━━━━\u001b[0m\u001b[37m\u001b[0m \u001b[1m0s\u001b[0m 11ms/step - loss: 8.1932 - mean_absolute_error: 1.8362 - val_loss: 190.2365 - val_mean_absolute_error: 11.3586\n",
      "Epoch 69/100\n",
      "\u001b[1m32/32\u001b[0m \u001b[32m━━━━━━━━━━━━━━━━━━━━\u001b[0m\u001b[37m\u001b[0m \u001b[1m0s\u001b[0m 9ms/step - loss: 5.4735 - mean_absolute_error: 1.7076 - val_loss: 134.0679 - val_mean_absolute_error: 8.3033\n",
      "Epoch 70/100\n",
      "\u001b[1m32/32\u001b[0m \u001b[32m━━━━━━━━━━━━━━━━━━━━\u001b[0m\u001b[37m\u001b[0m \u001b[1m0s\u001b[0m 8ms/step - loss: 5.2516 - mean_absolute_error: 1.5560 - val_loss: 156.3377 - val_mean_absolute_error: 9.2503\n",
      "Epoch 71/100\n",
      "\u001b[1m32/32\u001b[0m \u001b[32m━━━━━━━━━━━━━━━━━━━━\u001b[0m\u001b[37m\u001b[0m \u001b[1m0s\u001b[0m 10ms/step - loss: 5.8573 - mean_absolute_error: 1.6999 - val_loss: 157.3447 - val_mean_absolute_error: 9.0639\n",
      "Epoch 72/100\n",
      "\u001b[1m32/32\u001b[0m \u001b[32m━━━━━━━━━━━━━━━━━━━━\u001b[0m\u001b[37m\u001b[0m \u001b[1m0s\u001b[0m 12ms/step - loss: 3.6764 - mean_absolute_error: 1.2988 - val_loss: 155.7280 - val_mean_absolute_error: 8.9114\n",
      "Epoch 73/100\n",
      "\u001b[1m32/32\u001b[0m \u001b[32m━━━━━━━━━━━━━━━━━━━━\u001b[0m\u001b[37m\u001b[0m \u001b[1m0s\u001b[0m 10ms/step - loss: 1.9854 - mean_absolute_error: 0.9693 - val_loss: 165.5351 - val_mean_absolute_error: 9.8892\n",
      "Epoch 74/100\n",
      "\u001b[1m32/32\u001b[0m \u001b[32m━━━━━━━━━━━━━━━━━━━━\u001b[0m\u001b[37m\u001b[0m \u001b[1m0s\u001b[0m 8ms/step - loss: 1.0819 - mean_absolute_error: 0.5863 - val_loss: 159.6786 - val_mean_absolute_error: 9.6450\n",
      "Epoch 75/100\n",
      "\u001b[1m32/32\u001b[0m \u001b[32m━━━━━━━━━━━━━━━━━━━━\u001b[0m\u001b[37m\u001b[0m \u001b[1m0s\u001b[0m 8ms/step - loss: 1.5061 - mean_absolute_error: 0.7566 - val_loss: 138.6648 - val_mean_absolute_error: 8.2932\n",
      "Epoch 76/100\n",
      "\u001b[1m32/32\u001b[0m \u001b[32m━━━━━━━━━━━━━━━━━━━━\u001b[0m\u001b[37m\u001b[0m \u001b[1m0s\u001b[0m 8ms/step - loss: 1.2431 - mean_absolute_error: 0.7204 - val_loss: 130.0675 - val_mean_absolute_error: 7.6008\n",
      "Epoch 77/100\n",
      "\u001b[1m32/32\u001b[0m \u001b[32m━━━━━━━━━━━━━━━━━━━━\u001b[0m\u001b[37m\u001b[0m \u001b[1m0s\u001b[0m 8ms/step - loss: 2.1327 - mean_absolute_error: 0.9233 - val_loss: 127.4964 - val_mean_absolute_error: 7.6119\n",
      "Epoch 78/100\n",
      "\u001b[1m32/32\u001b[0m \u001b[32m━━━━━━━━━━━━━━━━━━━━\u001b[0m\u001b[37m\u001b[0m \u001b[1m0s\u001b[0m 9ms/step - loss: 1.1554 - mean_absolute_error: 0.6185 - val_loss: 142.7424 - val_mean_absolute_error: 8.8418\n",
      "Epoch 79/100\n",
      "\u001b[1m32/32\u001b[0m \u001b[32m━━━━━━━━━━━━━━━━━━━━\u001b[0m\u001b[37m\u001b[0m \u001b[1m0s\u001b[0m 8ms/step - loss: 3.6944 - mean_absolute_error: 1.1717 - val_loss: 120.2880 - val_mean_absolute_error: 7.3321\n",
      "Epoch 80/100\n",
      "\u001b[1m32/32\u001b[0m \u001b[32m━━━━━━━━━━━━━━━━━━━━\u001b[0m\u001b[37m\u001b[0m \u001b[1m0s\u001b[0m 8ms/step - loss: 3.8916 - mean_absolute_error: 1.4258 - val_loss: 173.4444 - val_mean_absolute_error: 10.9681\n",
      "Epoch 81/100\n",
      "\u001b[1m32/32\u001b[0m \u001b[32m━━━━━━━━━━━━━━━━━━━━\u001b[0m\u001b[37m\u001b[0m \u001b[1m0s\u001b[0m 8ms/step - loss: 3.8216 - mean_absolute_error: 1.0476 - val_loss: 661.3991 - val_mean_absolute_error: 22.3545\n",
      "Epoch 82/100\n",
      "\u001b[1m32/32\u001b[0m \u001b[32m━━━━━━━━━━━━━━━━━━━━\u001b[0m\u001b[37m\u001b[0m \u001b[1m0s\u001b[0m 8ms/step - loss: 3.5558 - mean_absolute_error: 1.1991 - val_loss: 227.4631 - val_mean_absolute_error: 12.9156\n",
      "Epoch 83/100\n",
      "\u001b[1m32/32\u001b[0m \u001b[32m━━━━━━━━━━━━━━━━━━━━\u001b[0m\u001b[37m\u001b[0m \u001b[1m0s\u001b[0m 11ms/step - loss: 2.0548 - mean_absolute_error: 0.9755 - val_loss: 70.1477 - val_mean_absolute_error: 5.8840\n",
      "Epoch 84/100\n",
      "\u001b[1m32/32\u001b[0m \u001b[32m━━━━━━━━━━━━━━━━━━━━\u001b[0m\u001b[37m\u001b[0m \u001b[1m0s\u001b[0m 9ms/step - loss: 0.9715 - mean_absolute_error: 0.7030 - val_loss: 78.2484 - val_mean_absolute_error: 6.4929\n",
      "Epoch 85/100\n",
      "\u001b[1m32/32\u001b[0m \u001b[32m━━━━━━━━━━━━━━━━━━━━\u001b[0m\u001b[37m\u001b[0m \u001b[1m0s\u001b[0m 8ms/step - loss: 1.1006 - mean_absolute_error: 0.6213 - val_loss: 67.0751 - val_mean_absolute_error: 5.7967\n",
      "Epoch 86/100\n",
      "\u001b[1m32/32\u001b[0m \u001b[32m━━━━━━━━━━━━━━━━━━━━\u001b[0m\u001b[37m\u001b[0m \u001b[1m0s\u001b[0m 8ms/step - loss: 1.2421 - mean_absolute_error: 0.7949 - val_loss: 84.8326 - val_mean_absolute_error: 7.1612\n",
      "Epoch 87/100\n",
      "\u001b[1m32/32\u001b[0m \u001b[32m━━━━━━━━━━━━━━━━━━━━\u001b[0m\u001b[37m\u001b[0m \u001b[1m0s\u001b[0m 9ms/step - loss: 3.6646 - mean_absolute_error: 1.3097 - val_loss: 402.5911 - val_mean_absolute_error: 15.6643\n",
      "Epoch 88/100\n",
      "\u001b[1m32/32\u001b[0m \u001b[32m━━━━━━━━━━━━━━━━━━━━\u001b[0m\u001b[37m\u001b[0m \u001b[1m0s\u001b[0m 10ms/step - loss: 4.6476 - mean_absolute_error: 1.6246 - val_loss: 325.1158 - val_mean_absolute_error: 13.9668\n",
      "Epoch 89/100\n",
      "\u001b[1m32/32\u001b[0m \u001b[32m━━━━━━━━━━━━━━━━━━━━\u001b[0m\u001b[37m\u001b[0m \u001b[1m0s\u001b[0m 9ms/step - loss: 1.7374 - mean_absolute_error: 0.8833 - val_loss: 260.9924 - val_mean_absolute_error: 12.5262\n",
      "Epoch 90/100\n",
      "\u001b[1m32/32\u001b[0m \u001b[32m━━━━━━━━━━━━━━━━━━━━\u001b[0m\u001b[37m\u001b[0m \u001b[1m0s\u001b[0m 8ms/step - loss: 1.5902 - mean_absolute_error: 0.8849 - val_loss: 192.4619 - val_mean_absolute_error: 10.8698\n",
      "Epoch 91/100\n",
      "\u001b[1m32/32\u001b[0m \u001b[32m━━━━━━━━━━━━━━━━━━━━\u001b[0m\u001b[37m\u001b[0m \u001b[1m0s\u001b[0m 8ms/step - loss: 0.7891 - mean_absolute_error: 0.5366 - val_loss: 117.8908 - val_mean_absolute_error: 8.8183\n",
      "Epoch 92/100\n",
      "\u001b[1m32/32\u001b[0m \u001b[32m━━━━━━━━━━━━━━━━━━━━\u001b[0m\u001b[37m\u001b[0m \u001b[1m0s\u001b[0m 8ms/step - loss: 1.2477 - mean_absolute_error: 0.8316 - val_loss: 67.9144 - val_mean_absolute_error: 6.7119\n",
      "Epoch 93/100\n",
      "\u001b[1m32/32\u001b[0m \u001b[32m━━━━━━━━━━━━━━━━━━━━\u001b[0m\u001b[37m\u001b[0m \u001b[1m0s\u001b[0m 8ms/step - loss: 0.8204 - mean_absolute_error: 0.6697 - val_loss: 44.5669 - val_mean_absolute_error: 5.0821\n",
      "Epoch 94/100\n",
      "\u001b[1m32/32\u001b[0m \u001b[32m━━━━━━━━━━━━━━━━━━━━\u001b[0m\u001b[37m\u001b[0m \u001b[1m0s\u001b[0m 10ms/step - loss: 0.8344 - mean_absolute_error: 0.6074 - val_loss: 94.1153 - val_mean_absolute_error: 8.1017\n",
      "Epoch 95/100\n",
      "\u001b[1m32/32\u001b[0m \u001b[32m━━━━━━━━━━━━━━━━━━━━\u001b[0m\u001b[37m\u001b[0m \u001b[1m0s\u001b[0m 8ms/step - loss: 0.5668 - mean_absolute_error: 0.4766 - val_loss: 48.7044 - val_mean_absolute_error: 5.5440\n",
      "Epoch 96/100\n",
      "\u001b[1m32/32\u001b[0m \u001b[32m━━━━━━━━━━━━━━━━━━━━\u001b[0m\u001b[37m\u001b[0m \u001b[1m0s\u001b[0m 9ms/step - loss: 0.7180 - mean_absolute_error: 0.5375 - val_loss: 72.0347 - val_mean_absolute_error: 6.8944\n",
      "Epoch 97/100\n",
      "\u001b[1m32/32\u001b[0m \u001b[32m━━━━━━━━━━━━━━━━━━━━\u001b[0m\u001b[37m\u001b[0m \u001b[1m0s\u001b[0m 8ms/step - loss: 0.5786 - mean_absolute_error: 0.5092 - val_loss: 40.7044 - val_mean_absolute_error: 4.7887\n",
      "Epoch 98/100\n",
      "\u001b[1m32/32\u001b[0m \u001b[32m━━━━━━━━━━━━━━━━━━━━\u001b[0m\u001b[37m\u001b[0m \u001b[1m0s\u001b[0m 8ms/step - loss: 2.9216 - mean_absolute_error: 1.2087 - val_loss: 270.4351 - val_mean_absolute_error: 12.1949\n",
      "Epoch 99/100\n",
      "\u001b[1m32/32\u001b[0m \u001b[32m━━━━━━━━━━━━━━━━━━━━\u001b[0m\u001b[37m\u001b[0m \u001b[1m0s\u001b[0m 11ms/step - loss: 1.6433 - mean_absolute_error: 1.0382 - val_loss: 235.3043 - val_mean_absolute_error: 10.8996\n",
      "Epoch 100/100\n",
      "\u001b[1m32/32\u001b[0m \u001b[32m━━━━━━━━━━━━━━━━━━━━\u001b[0m\u001b[37m\u001b[0m \u001b[1m0s\u001b[0m 9ms/step - loss: 5.6297 - mean_absolute_error: 1.7670 - val_loss: 235.0997 - val_mean_absolute_error: 11.2979\n"
     ]
    },
    {
     "data": {
      "text/plain": [
       "<keras.src.callbacks.history.History at 0x1f2297a4290>"
      ]
     },
     "execution_count": 99,
     "metadata": {},
     "output_type": "execute_result"
    }
   ],
   "source": [
    "from tensorflow.keras.models import Sequential\n",
    "from tensorflow.keras.optimizers import Adam\n",
    "from tensorflow.keras import layers\n",
    "\n",
    "model = Sequential([layers.Input((7, 1)),  # 7 days \n",
    "                    layers.LSTM(64),\n",
    "                    layers.Dense(32, activation='relu'),\n",
    "                    layers.Dense(32, activation='relu'),\n",
    "                    layers.Dense(1)])\n",
    "\n",
    "model.compile(loss='mse', \n",
    "              optimizer=Adam(learning_rate=0.001),\n",
    "              metrics=['mean_absolute_error'])\n",
    "\n",
    "model.fit(X_train, y_train, validation_data=(X_val, y_val), epochs=100)"
   ]
  },
  {
   "cell_type": "markdown",
   "metadata": {},
   "source": [
    "### 4. Eval model ###"
   ]
  },
  {
   "cell_type": "code",
   "execution_count": 100,
   "metadata": {},
   "outputs": [
    {
     "name": "stdout",
     "output_type": "stream",
     "text": [
      "\u001b[1m32/32\u001b[0m \u001b[32m━━━━━━━━━━━━━━━━━━━━\u001b[0m\u001b[37m\u001b[0m \u001b[1m1s\u001b[0m 10ms/step\n"
     ]
    },
    {
     "data": {
      "text/plain": [
       "<matplotlib.legend.Legend at 0x1f22f675c50>"
      ]
     },
     "execution_count": 100,
     "metadata": {},
     "output_type": "execute_result"
    },
    {
     "data": {
      "image/png": "[encoded data removed]",
      "text/plain": [
       "<Figure size 640x480 with 1 Axes>"
      ]
     },
     "metadata": {},
     "output_type": "display_data"
    }
   ],
   "source": [
    "train_predictions = model.predict(X_train).flatten()\n",
    "\n",
    "plt.plot(dates_train, train_predictions)\n",
    "plt.plot(dates_train, y_train)\n",
    "plt.legend(['Training Predictions', 'Training Observations'])"
   ]
  },
  {
   "cell_type": "code",
   "execution_count": 101,
   "metadata": {},
   "outputs": [
    {
     "name": "stdout",
     "output_type": "stream",
     "text": [
      "\u001b[1m4/4\u001b[0m \u001b[32m━━━━━━━━━━━━━━━━━━━━\u001b[0m\u001b[37m\u001b[0m \u001b[1m0s\u001b[0m 10ms/step\n"
     ]
    },
    {
     "data": {
      "text/plain": [
       "<matplotlib.legend.Legend at 0x1f22d150350>"
      ]
     },
     "execution_count": 101,
     "metadata": {},
     "output_type": "execute_result"
    },
    {
     "data": {
      "image/png": "[encoded data removed]",
      "text/plain": [
       "<Figure size 640x480 with 1 Axes>"
      ]
     },
     "metadata": {},
     "output_type": "display_data"
    }
   ],
   "source": [
    "val_predictions = model.predict(X_val).flatten()\n",
    "\n",
    "plt.plot(dates_val, val_predictions)\n",
    "plt.plot(dates_val, y_val)\n",
    "plt.legend(['Validation Predictions', 'Validation Observations'])"
   ]
  },
  {
   "cell_type": "code",
   "execution_count": 102,
   "metadata": {},
   "outputs": [
    {
     "name": "stdout",
     "output_type": "stream",
     "text": [
      "\u001b[1m4/4\u001b[0m \u001b[32m━━━━━━━━━━━━━━━━━━━━\u001b[0m\u001b[37m\u001b[0m \u001b[1m0s\u001b[0m 8ms/step \n"
     ]
    },
    {
     "data": {
      "text/plain": [
       "<matplotlib.legend.Legend at 0x1f22cfdea10>"
      ]
     },
     "execution_count": 102,
     "metadata": {},
     "output_type": "execute_result"
    },
    {
     "data": {
      "image/png": "[encoded data removed]",
      "text/plain": [
       "<Figure size 640x480 with 1 Axes>"
      ]
     },
     "metadata": {},
     "output_type": "display_data"
    }
   ],
   "source": [
    "test_predictions = model.predict(X_test).flatten()\n",
    "\n",
    "plt.plot(dates_test, test_predictions)\n",
    "plt.plot(dates_test, y_test)\n",
    "plt.legend(['Testing Predictions', 'Testing Observations'])"
   ]
  },
  {
   "cell_type": "code",
   "execution_count": 103,
   "metadata": {},
   "outputs": [
    {
     "data": {
      "text/plain": [
       "<matplotlib.legend.Legend at 0x1f22d0415d0>"
      ]
     },
     "execution_count": 103,
     "metadata": {},
     "output_type": "execute_result"
    },
    {
     "data": {
      "image/png": "[encoded data removed]",
      "text/plain": [
       "<Figure size 640x480 with 1 Axes>"
      ]
     },
     "metadata": {},
     "output_type": "display_data"
    }
   ],
   "source": [
    "plt.plot(dates_train, train_predictions)\n",
    "plt.plot(dates_train, y_train)\n",
    "plt.plot(dates_val, val_predictions)\n",
    "plt.plot(dates_val, y_val)\n",
    "plt.plot(dates_test, test_predictions)\n",
    "plt.plot(dates_test, y_test)\n",
    "plt.legend(['Training Predictions', \n",
    "            'Training Observations',\n",
    "            'Validation Predictions', \n",
    "            'Validation Observations',\n",
    "            'Testing Predictions', \n",
    "            'Testing Observations'])"
   ]
  }
 ],
 "metadata": {
  "kernelspec": {
   "display_name": "Python 3",
   "language": "python",
   "name": "python3"
  },
  "language_info": {
   "codemirror_mode": {
    "name": "ipython",
    "version": 3
   },
   "file_extension": ".py",
   "mimetype": "text/x-python",
   "name": "python",
   "nbconvert_exporter": "python",
   "pygments_lexer": "ipython3",
   "version": "3.11.9"
  }
 },
 "nbformat": 4,
 "nbformat_minor": 2
}
