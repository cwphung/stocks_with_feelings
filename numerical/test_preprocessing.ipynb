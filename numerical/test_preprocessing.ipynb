{
 "cells": [
  {
   "cell_type": "markdown",
   "id": "254b17c6-9d9e-4318-a428-f6c30ee0056f",
   "metadata": {},
   "source": [
    "## Preprocessing Stock Data\n",
    "This notebook is used to test stock data preprocessing functions."
   ]
  },
  {
   "cell_type": "code",
   "execution_count": 1,
   "id": "c92b758c-c1c2-4a51-a887-ba47d5f44fec",
   "metadata": {},
   "outputs": [],
   "source": [
    "import pandas as pd\n",
    "from stock_data_processing import clean_stock_data, simple_moving_average, exponential_moving_average, calculate_rsi, calculate_macd, bollinger_bands"
   ]
  },
  {
   "cell_type": "markdown",
   "id": "79b71e80-0ccd-454c-8cee-6ce042db1f12",
   "metadata": {},
   "source": [
    "#### Import CSV data"
   ]
  },
  {
   "cell_type": "code",
   "execution_count": 2,
   "id": "8d099b16-f6d3-492c-b690-532723443509",
   "metadata": {},
   "outputs": [
    {
     "data": {
      "text/html": [
       "<div>\n",
       "<style scoped>\n",
       "    .dataframe tbody tr th:only-of-type {\n",
       "        vertical-align: middle;\n",
       "    }\n",
       "\n",
       "    .dataframe tbody tr th {\n",
       "        vertical-align: top;\n",
       "    }\n",
       "\n",
       "    .dataframe thead th {\n",
       "        text-align: right;\n",
       "    }\n",
       "</style>\n",
       "<table border=\"1\" class=\"dataframe\">\n",
       "  <thead>\n",
       "    <tr style=\"text-align: right;\">\n",
       "      <th></th>\n",
       "      <th>Date</th>\n",
       "      <th>Open</th>\n",
       "      <th>High</th>\n",
       "      <th>Low</th>\n",
       "      <th>Close</th>\n",
       "      <th>Adj Close</th>\n",
       "      <th>Volume</th>\n",
       "      <th>Stock Name</th>\n",
       "    </tr>\n",
       "  </thead>\n",
       "  <tbody>\n",
       "    <tr>\n",
       "      <th>0</th>\n",
       "      <td>2021-09-30</td>\n",
       "      <td>260.333344</td>\n",
       "      <td>263.043335</td>\n",
       "      <td>258.333344</td>\n",
       "      <td>258.493347</td>\n",
       "      <td>258.493347</td>\n",
       "      <td>53868000</td>\n",
       "      <td>TSLA</td>\n",
       "    </tr>\n",
       "    <tr>\n",
       "      <th>1</th>\n",
       "      <td>2021-10-01</td>\n",
       "      <td>259.466675</td>\n",
       "      <td>260.260010</td>\n",
       "      <td>254.529999</td>\n",
       "      <td>258.406677</td>\n",
       "      <td>258.406677</td>\n",
       "      <td>51094200</td>\n",
       "      <td>TSLA</td>\n",
       "    </tr>\n",
       "    <tr>\n",
       "      <th>2</th>\n",
       "      <td>2021-10-04</td>\n",
       "      <td>265.500000</td>\n",
       "      <td>268.989990</td>\n",
       "      <td>258.706665</td>\n",
       "      <td>260.510010</td>\n",
       "      <td>260.510010</td>\n",
       "      <td>91449900</td>\n",
       "      <td>TSLA</td>\n",
       "    </tr>\n",
       "    <tr>\n",
       "      <th>3</th>\n",
       "      <td>2021-10-05</td>\n",
       "      <td>261.600006</td>\n",
       "      <td>265.769989</td>\n",
       "      <td>258.066681</td>\n",
       "      <td>260.196655</td>\n",
       "      <td>260.196655</td>\n",
       "      <td>55297800</td>\n",
       "      <td>TSLA</td>\n",
       "    </tr>\n",
       "    <tr>\n",
       "      <th>4</th>\n",
       "      <td>2021-10-06</td>\n",
       "      <td>258.733337</td>\n",
       "      <td>262.220001</td>\n",
       "      <td>257.739990</td>\n",
       "      <td>260.916656</td>\n",
       "      <td>260.916656</td>\n",
       "      <td>43898400</td>\n",
       "      <td>TSLA</td>\n",
       "    </tr>\n",
       "  </tbody>\n",
       "</table>\n",
       "</div>"
      ],
      "text/plain": [
       "         Date        Open        High         Low       Close   Adj Close  \\\n",
       "0  2021-09-30  260.333344  263.043335  258.333344  258.493347  258.493347   \n",
       "1  2021-10-01  259.466675  260.260010  254.529999  258.406677  258.406677   \n",
       "2  2021-10-04  265.500000  268.989990  258.706665  260.510010  260.510010   \n",
       "3  2021-10-05  261.600006  265.769989  258.066681  260.196655  260.196655   \n",
       "4  2021-10-06  258.733337  262.220001  257.739990  260.916656  260.916656   \n",
       "\n",
       "     Volume Stock Name  \n",
       "0  53868000       TSLA  \n",
       "1  51094200       TSLA  \n",
       "2  91449900       TSLA  \n",
       "3  55297800       TSLA  \n",
       "4  43898400       TSLA  "
      ]
     },
     "execution_count": 2,
     "metadata": {},
     "output_type": "execute_result"
    }
   ],
   "source": [
    "stock_df = pd.read_csv(\"stock_yfinance_data.csv\")\n",
    "stock_df.head()"
   ]
  },
  {
   "cell_type": "markdown",
   "id": "8ee900bc-2911-4919-97ea-274f5979c02e",
   "metadata": {},
   "source": [
    "#### Select specific stock"
   ]
  },
  {
   "cell_type": "code",
   "execution_count": 3,
   "id": "e63d01ef-f8a2-4605-90ee-c92a39ab0c23",
   "metadata": {},
   "outputs": [],
   "source": [
    "ticker = 'TSLA'\n",
    "stock_filt = stock_df['Stock Name'] == ticker\n",
    "tsla_df = stock_df[stock_filt]"
   ]
  },
  {
   "cell_type": "markdown",
   "id": "579a4f6b-7bc6-4171-964f-50249113d2c6",
   "metadata": {},
   "source": [
    "#### Clean dataframe"
   ]
  },
  {
   "cell_type": "code",
   "execution_count": 4,
   "id": "26938d55-5c43-44e9-ba4b-04e24416fba9",
   "metadata": {},
   "outputs": [
    {
     "name": "stderr",
     "output_type": "stream",
     "text": [
      "/Users/derrickushko/Documents/UCLA/COM SCI 247/stocks_with_feelings/stock_data_processing.py:20: SettingWithCopyWarning: \n",
      "A value is trying to be set on a copy of a slice from a DataFrame\n",
      "\n",
      "See the caveats in the documentation: https://pandas.pydata.org/pandas-docs/stable/user_guide/indexing.html#returning-a-view-versus-a-copy\n",
      "  df.sort_values(by='date', inplace=True)\n",
      "/Users/derrickushko/Documents/UCLA/COM SCI 247/stocks_with_feelings/stock_data_processing.py:21: SettingWithCopyWarning: \n",
      "A value is trying to be set on a copy of a slice from a DataFrame\n",
      "\n",
      "See the caveats in the documentation: https://pandas.pydata.org/pandas-docs/stable/user_guide/indexing.html#returning-a-view-versus-a-copy\n",
      "  df.ffill(inplace=True)\n"
     ]
    },
    {
     "data": {
      "text/html": [
       "<div>\n",
       "<style scoped>\n",
       "    .dataframe tbody tr th:only-of-type {\n",
       "        vertical-align: middle;\n",
       "    }\n",
       "\n",
       "    .dataframe tbody tr th {\n",
       "        vertical-align: top;\n",
       "    }\n",
       "\n",
       "    .dataframe thead th {\n",
       "        text-align: right;\n",
       "    }\n",
       "</style>\n",
       "<table border=\"1\" class=\"dataframe\">\n",
       "  <thead>\n",
       "    <tr style=\"text-align: right;\">\n",
       "      <th></th>\n",
       "      <th>date</th>\n",
       "      <th>open</th>\n",
       "      <th>high</th>\n",
       "      <th>low</th>\n",
       "      <th>close</th>\n",
       "      <th>adj_close</th>\n",
       "      <th>volume</th>\n",
       "      <th>stock_name</th>\n",
       "    </tr>\n",
       "  </thead>\n",
       "  <tbody>\n",
       "    <tr>\n",
       "      <th>0</th>\n",
       "      <td>2021-09-30</td>\n",
       "      <td>260.333344</td>\n",
       "      <td>263.043335</td>\n",
       "      <td>258.333344</td>\n",
       "      <td>258.493347</td>\n",
       "      <td>258.493347</td>\n",
       "      <td>53868000</td>\n",
       "      <td>TSLA</td>\n",
       "    </tr>\n",
       "    <tr>\n",
       "      <th>1</th>\n",
       "      <td>2021-10-01</td>\n",
       "      <td>259.466675</td>\n",
       "      <td>260.260010</td>\n",
       "      <td>254.529999</td>\n",
       "      <td>258.406677</td>\n",
       "      <td>258.406677</td>\n",
       "      <td>51094200</td>\n",
       "      <td>TSLA</td>\n",
       "    </tr>\n",
       "    <tr>\n",
       "      <th>2</th>\n",
       "      <td>2021-10-04</td>\n",
       "      <td>265.500000</td>\n",
       "      <td>268.989990</td>\n",
       "      <td>258.706665</td>\n",
       "      <td>260.510010</td>\n",
       "      <td>260.510010</td>\n",
       "      <td>91449900</td>\n",
       "      <td>TSLA</td>\n",
       "    </tr>\n",
       "    <tr>\n",
       "      <th>3</th>\n",
       "      <td>2021-10-05</td>\n",
       "      <td>261.600006</td>\n",
       "      <td>265.769989</td>\n",
       "      <td>258.066681</td>\n",
       "      <td>260.196655</td>\n",
       "      <td>260.196655</td>\n",
       "      <td>55297800</td>\n",
       "      <td>TSLA</td>\n",
       "    </tr>\n",
       "    <tr>\n",
       "      <th>4</th>\n",
       "      <td>2021-10-06</td>\n",
       "      <td>258.733337</td>\n",
       "      <td>262.220001</td>\n",
       "      <td>257.739990</td>\n",
       "      <td>260.916656</td>\n",
       "      <td>260.916656</td>\n",
       "      <td>43898400</td>\n",
       "      <td>TSLA</td>\n",
       "    </tr>\n",
       "  </tbody>\n",
       "</table>\n",
       "</div>"
      ],
      "text/plain": [
       "         date        open        high         low       close   adj_close  \\\n",
       "0  2021-09-30  260.333344  263.043335  258.333344  258.493347  258.493347   \n",
       "1  2021-10-01  259.466675  260.260010  254.529999  258.406677  258.406677   \n",
       "2  2021-10-04  265.500000  268.989990  258.706665  260.510010  260.510010   \n",
       "3  2021-10-05  261.600006  265.769989  258.066681  260.196655  260.196655   \n",
       "4  2021-10-06  258.733337  262.220001  257.739990  260.916656  260.916656   \n",
       "\n",
       "     volume stock_name  \n",
       "0  53868000       TSLA  \n",
       "1  51094200       TSLA  \n",
       "2  91449900       TSLA  \n",
       "3  55297800       TSLA  \n",
       "4  43898400       TSLA  "
      ]
     },
     "execution_count": 4,
     "metadata": {},
     "output_type": "execute_result"
    }
   ],
   "source": [
    "tsla_df = clean_stock_data(tsla_df)\n",
    "tsla_df.head()"
   ]
  },
  {
   "cell_type": "markdown",
   "id": "98df684f-b986-48ce-9f22-e081d747ee56",
   "metadata": {},
   "source": [
    "#### Simple moving average"
   ]
  },
  {
   "cell_type": "code",
   "execution_count": 5,
   "id": "d7119456-bf8a-46c4-8601-bad2612cb034",
   "metadata": {},
   "outputs": [
    {
     "name": "stderr",
     "output_type": "stream",
     "text": [
      "/var/folders/8z/sggpcfrn1fv_wcbvttjhgw1c0000gn/T/ipykernel_25936/3953923336.py:1: SettingWithCopyWarning: \n",
      "A value is trying to be set on a copy of a slice from a DataFrame.\n",
      "Try using .loc[row_indexer,col_indexer] = value instead\n",
      "\n",
      "See the caveats in the documentation: https://pandas.pydata.org/pandas-docs/stable/user_guide/indexing.html#returning-a-view-versus-a-copy\n",
      "  tsla_df['sma'] = simple_moving_average(tsla_df)\n"
     ]
    }
   ],
   "source": [
    "tsla_df['sma'] = simple_moving_average(tsla_df)"
   ]
  },
  {
   "cell_type": "markdown",
   "id": "d8b47439-fbf8-4675-9d06-99f92efc425a",
   "metadata": {},
   "source": [
    "#### Exponential moving average"
   ]
  },
  {
   "cell_type": "code",
   "execution_count": 6,
   "id": "e1a67b3f-262d-4ad3-816c-64b7ef236fe4",
   "metadata": {},
   "outputs": [
    {
     "name": "stderr",
     "output_type": "stream",
     "text": [
      "/var/folders/8z/sggpcfrn1fv_wcbvttjhgw1c0000gn/T/ipykernel_25936/2408506158.py:1: SettingWithCopyWarning: \n",
      "A value is trying to be set on a copy of a slice from a DataFrame.\n",
      "Try using .loc[row_indexer,col_indexer] = value instead\n",
      "\n",
      "See the caveats in the documentation: https://pandas.pydata.org/pandas-docs/stable/user_guide/indexing.html#returning-a-view-versus-a-copy\n",
      "  tsla_df['ema'] = exponential_moving_average(tsla_df)\n"
     ]
    }
   ],
   "source": [
    "tsla_df['ema'] = exponential_moving_average(tsla_df)"
   ]
  },
  {
   "cell_type": "markdown",
   "id": "0b0fab15-a3d4-493b-98e0-33cb4d57dc61",
   "metadata": {},
   "source": [
    "#### Relative strength index"
   ]
  },
  {
   "cell_type": "code",
   "execution_count": 7,
   "id": "08462401-379e-4143-9ffd-a8a16cb67971",
   "metadata": {},
   "outputs": [
    {
     "name": "stderr",
     "output_type": "stream",
     "text": [
      "/var/folders/8z/sggpcfrn1fv_wcbvttjhgw1c0000gn/T/ipykernel_25936/2246379121.py:1: SettingWithCopyWarning: \n",
      "A value is trying to be set on a copy of a slice from a DataFrame.\n",
      "Try using .loc[row_indexer,col_indexer] = value instead\n",
      "\n",
      "See the caveats in the documentation: https://pandas.pydata.org/pandas-docs/stable/user_guide/indexing.html#returning-a-view-versus-a-copy\n",
      "  tsla_df['rsi'] = calculate_rsi(tsla_df)\n"
     ]
    }
   ],
   "source": [
    "tsla_df['rsi'] = calculate_rsi(tsla_df)"
   ]
  },
  {
   "cell_type": "markdown",
   "id": "0b22aa9c-208e-4cae-a970-13e07614b083",
   "metadata": {},
   "source": [
    "#### Moving average convergence divergence"
   ]
  },
  {
   "cell_type": "code",
   "execution_count": 8,
   "id": "c3e7de43-4f69-4ac4-bfab-39823b9ba048",
   "metadata": {},
   "outputs": [
    {
     "name": "stderr",
     "output_type": "stream",
     "text": [
      "/var/folders/8z/sggpcfrn1fv_wcbvttjhgw1c0000gn/T/ipykernel_25936/4176368548.py:1: SettingWithCopyWarning: \n",
      "A value is trying to be set on a copy of a slice from a DataFrame.\n",
      "Try using .loc[row_indexer,col_indexer] = value instead\n",
      "\n",
      "See the caveats in the documentation: https://pandas.pydata.org/pandas-docs/stable/user_guide/indexing.html#returning-a-view-versus-a-copy\n",
      "  tsla_df['macd_line'] , tsla_df['macd_signal'], tsla_df['macd_histogram'] = calculate_macd(tsla_df)\n",
      "/var/folders/8z/sggpcfrn1fv_wcbvttjhgw1c0000gn/T/ipykernel_25936/4176368548.py:1: SettingWithCopyWarning: \n",
      "A value is trying to be set on a copy of a slice from a DataFrame.\n",
      "Try using .loc[row_indexer,col_indexer] = value instead\n",
      "\n",
      "See the caveats in the documentation: https://pandas.pydata.org/pandas-docs/stable/user_guide/indexing.html#returning-a-view-versus-a-copy\n",
      "  tsla_df['macd_line'] , tsla_df['macd_signal'], tsla_df['macd_histogram'] = calculate_macd(tsla_df)\n",
      "/var/folders/8z/sggpcfrn1fv_wcbvttjhgw1c0000gn/T/ipykernel_25936/4176368548.py:1: SettingWithCopyWarning: \n",
      "A value is trying to be set on a copy of a slice from a DataFrame.\n",
      "Try using .loc[row_indexer,col_indexer] = value instead\n",
      "\n",
      "See the caveats in the documentation: https://pandas.pydata.org/pandas-docs/stable/user_guide/indexing.html#returning-a-view-versus-a-copy\n",
      "  tsla_df['macd_line'] , tsla_df['macd_signal'], tsla_df['macd_histogram'] = calculate_macd(tsla_df)\n"
     ]
    }
   ],
   "source": [
    "tsla_df['macd_line'] , tsla_df['macd_signal'], tsla_df['macd_histogram'] = calculate_macd(tsla_df)"
   ]
  },
  {
   "cell_type": "markdown",
   "id": "df3a6a9c-658c-42f0-b714-c6f1d9225e23",
   "metadata": {},
   "source": [
    "#### Bollinger bands"
   ]
  },
  {
   "cell_type": "code",
   "execution_count": 9,
   "id": "2c36e612-0b89-4810-9a5d-31c9db561c7b",
   "metadata": {},
   "outputs": [
    {
     "name": "stderr",
     "output_type": "stream",
     "text": [
      "/var/folders/8z/sggpcfrn1fv_wcbvttjhgw1c0000gn/T/ipykernel_25936/1592827477.py:1: SettingWithCopyWarning: \n",
      "A value is trying to be set on a copy of a slice from a DataFrame.\n",
      "Try using .loc[row_indexer,col_indexer] = value instead\n",
      "\n",
      "See the caveats in the documentation: https://pandas.pydata.org/pandas-docs/stable/user_guide/indexing.html#returning-a-view-versus-a-copy\n",
      "  tsla_df['bb_middle'], tsla_df['bb_upper'], tsla_df['bb_lower'] = bollinger_bands(tsla_df)\n",
      "/var/folders/8z/sggpcfrn1fv_wcbvttjhgw1c0000gn/T/ipykernel_25936/1592827477.py:1: SettingWithCopyWarning: \n",
      "A value is trying to be set on a copy of a slice from a DataFrame.\n",
      "Try using .loc[row_indexer,col_indexer] = value instead\n",
      "\n",
      "See the caveats in the documentation: https://pandas.pydata.org/pandas-docs/stable/user_guide/indexing.html#returning-a-view-versus-a-copy\n",
      "  tsla_df['bb_middle'], tsla_df['bb_upper'], tsla_df['bb_lower'] = bollinger_bands(tsla_df)\n",
      "/var/folders/8z/sggpcfrn1fv_wcbvttjhgw1c0000gn/T/ipykernel_25936/1592827477.py:1: SettingWithCopyWarning: \n",
      "A value is trying to be set on a copy of a slice from a DataFrame.\n",
      "Try using .loc[row_indexer,col_indexer] = value instead\n",
      "\n",
      "See the caveats in the documentation: https://pandas.pydata.org/pandas-docs/stable/user_guide/indexing.html#returning-a-view-versus-a-copy\n",
      "  tsla_df['bb_middle'], tsla_df['bb_upper'], tsla_df['bb_lower'] = bollinger_bands(tsla_df)\n"
     ]
    }
   ],
   "source": [
    "tsla_df['bb_middle'], tsla_df['bb_upper'], tsla_df['bb_lower'] = bollinger_bands(tsla_df)"
   ]
  },
  {
   "cell_type": "markdown",
   "id": "331329c8",
   "metadata": {},
   "source": [
    "#### Plot candlestick chart"
   ]
  },
  {
   "cell_type": "code",
   "execution_count": 10,
   "id": "0c817793-b36f-4d96-a194-e3f48a16a643",
   "metadata": {},
   "outputs": [],
   "source": [
    "import plotly.graph_objects as go"
   ]
  },
  {
   "cell_type": "code",
   "execution_count": 11,
   "id": "0cd9f67a-c2ba-4e18-a3e2-cd0a410f195f",
   "metadata": {},
   "outputs": [
    {
     "data": {
      "application/vnd.plotly.v1+json": {
       "config": {
        "plotlyServerURL": "https://plot.ly"
       },
       "data": [
        {
         "close": {
          "bdata": "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",
          "dtype": "f8"
         },
         "decreasing": {
          "line": {
           "color": "red"
          }
         },
         "high": {
          "bdata": "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",
          "dtype": "f8"
         },
         "increasing": {
          "line": {
           "color": "green"
          }
         },
         "low": {
          "bdata": "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",
          "dtype": "f8"
         },
         "open": {
          "bdata": "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",
          "dtype": "f8"
         },
         "type": "candlestick",
         "x": [
          "2021-09-30",
          "2021-10-01",
          "2021-10-04",
          "2021-10-05",
          "2021-10-06",
          "2021-10-07",
          "2021-10-08",
          "2021-10-11",
          "2021-10-12",
          "2021-10-13",
          "2021-10-14",
          "2021-10-15",
          "2021-10-18",
          "2021-10-19",
          "2021-10-20",
          "2021-10-21",
          "2021-10-22",
          "2021-10-25",
          "2021-10-26",
          "2021-10-27",
          "2021-10-28",
          "2021-10-29",
          "2021-11-01",
          "2021-11-02",
          "2021-11-03",
          "2021-11-04",
          "2021-11-05",
          "2021-11-08",
          "2021-11-09",
          "2021-11-10",
          "2021-11-11",
          "2021-11-12",
          "2021-11-15",
          "2021-11-16",
          "2021-11-17",
          "2021-11-18",
          "2021-11-19",
          "2021-11-22",
          "2021-11-23",
          "2021-11-24",
          "2021-11-26",
          "2021-11-29",
          "2021-11-30",
          "2021-12-01",
          "2021-12-02",
          "2021-12-03",
          "2021-12-06",
          "2021-12-07",
          "2021-12-08",
          "2021-12-09",
          "2021-12-10",
          "2021-12-13",
          "2021-12-14",
          "2021-12-15",
          "2021-12-16",
          "2021-12-17",
          "2021-12-20",
          "2021-12-21",
          "2021-12-22",
          "2021-12-23",
          "2021-12-27",
          "2021-12-28",
          "2021-12-29",
          "2021-12-30",
          "2021-12-31",
          "2022-01-03",
          "2022-01-04",
          "2022-01-05",
          "2022-01-06",
          "2022-01-07",
          "2022-01-10",
          "2022-01-11",
          "2022-01-12",
          "2022-01-13",
          "2022-01-14",
          "2022-01-18",
          "2022-01-19",
          "2022-01-20",
          "2022-01-21",
          "2022-01-24",
          "2022-01-25",
          "2022-01-26",
          "2022-01-27",
          "2022-01-28",
          "2022-01-31",
          "2022-02-01",
          "2022-02-02",
          "2022-02-03",
          "2022-02-04",
          "2022-02-07",
          "2022-02-08",
          "2022-02-09",
          "2022-02-10",
          "2022-02-11",
          "2022-02-14",
          "2022-02-15",
          "2022-02-16",
          "2022-02-17",
          "2022-02-18",
          "2022-02-22",
          "2022-02-23",
          "2022-02-24",
          "2022-02-25",
          "2022-02-28",
          "2022-03-01",
          "2022-03-02",
          "2022-03-03",
          "2022-03-04",
          "2022-03-07",
          "2022-03-08",
          "2022-03-09",
          "2022-03-10",
          "2022-03-11",
          "2022-03-14",
          "2022-03-15",
          "2022-03-16",
          "2022-03-17",
          "2022-03-18",
          "2022-03-21",
          "2022-03-22",
          "2022-03-23",
          "2022-03-24",
          "2022-03-25",
          "2022-03-28",
          "2022-03-29",
          "2022-03-30",
          "2022-03-31",
          "2022-04-01",
          "2022-04-04",
          "2022-04-05",
          "2022-04-06",
          "2022-04-07",
          "2022-04-08",
          "2022-04-11",
          "2022-04-12",
          "2022-04-13",
          "2022-04-14",
          "2022-04-18",
          "2022-04-19",
          "2022-04-20",
          "2022-04-21",
          "2022-04-22",
          "2022-04-25",
          "2022-04-26",
          "2022-04-27",
          "2022-04-28",
          "2022-04-29",
          "2022-05-02",
          "2022-05-03",
          "2022-05-04",
          "2022-05-05",
          "2022-05-06",
          "2022-05-09",
          "2022-05-10",
          "2022-05-11",
          "2022-05-12",
          "2022-05-13",
          "2022-05-16",
          "2022-05-17",
          "2022-05-18",
          "2022-05-19",
          "2022-05-20",
          "2022-05-23",
          "2022-05-24",
          "2022-05-25",
          "2022-05-26",
          "2022-05-27",
          "2022-05-31",
          "2022-06-01",
          "2022-06-02",
          "2022-06-03",
          "2022-06-06",
          "2022-06-07",
          "2022-06-08",
          "2022-06-09",
          "2022-06-10",
          "2022-06-13",
          "2022-06-14",
          "2022-06-15",
          "2022-06-16",
          "2022-06-17",
          "2022-06-21",
          "2022-06-22",
          "2022-06-23",
          "2022-06-24",
          "2022-06-27",
          "2022-06-28",
          "2022-06-29",
          "2022-06-30",
          "2022-07-01",
          "2022-07-05",
          "2022-07-06",
          "2022-07-07",
          "2022-07-08",
          "2022-07-11",
          "2022-07-12",
          "2022-07-13",
          "2022-07-14",
          "2022-07-15",
          "2022-07-18",
          "2022-07-19",
          "2022-07-20",
          "2022-07-21",
          "2022-07-22",
          "2022-07-25",
          "2022-07-26",
          "2022-07-27",
          "2022-07-28",
          "2022-07-29",
          "2022-08-01",
          "2022-08-02",
          "2022-08-03",
          "2022-08-04",
          "2022-08-05",
          "2022-08-08",
          "2022-08-09",
          "2022-08-10",
          "2022-08-11",
          "2022-08-12",
          "2022-08-15",
          "2022-08-16",
          "2022-08-17",
          "2022-08-18",
          "2022-08-19",
          "2022-08-22",
          "2022-08-23",
          "2022-08-24",
          "2022-08-25",
          "2022-08-26",
          "2022-08-29",
          "2022-08-30",
          "2022-08-31",
          "2022-09-01",
          "2022-09-02",
          "2022-09-06",
          "2022-09-07",
          "2022-09-08",
          "2022-09-09",
          "2022-09-12",
          "2022-09-13",
          "2022-09-14",
          "2022-09-15",
          "2022-09-16",
          "2022-09-19",
          "2022-09-20",
          "2022-09-21",
          "2022-09-22",
          "2022-09-23",
          "2022-09-26",
          "2022-09-27",
          "2022-09-28",
          "2022-09-29"
         ]
        }
       ],
       "layout": {
        "template": {
         "data": {
          "bar": [
           {
            "error_x": {
             "color": "#2a3f5f"
            },
            "error_y": {
             "color": "#2a3f5f"
            },
            "marker": {
             "line": {
              "color": "#E5ECF6",
              "width": 0.5
             },
             "pattern": {
              "fillmode": "overlay",
              "size": 10,
              "solidity": 0.2
             }
            },
            "type": "bar"
           }
          ],
          "barpolar": [
           {
            "marker": {
             "line": {
              "color": "#E5ECF6",
              "width": 0.5
             },
             "pattern": {
              "fillmode": "overlay",
              "size": 10,
              "solidity": 0.2
             }
            },
            "type": "barpolar"
           }
          ],
          "carpet": [
           {
            "aaxis": {
             "endlinecolor": "#2a3f5f",
             "gridcolor": "white",
             "linecolor": "white",
             "minorgridcolor": "white",
             "startlinecolor": "#2a3f5f"
            },
            "baxis": {
             "endlinecolor": "#2a3f5f",
             "gridcolor": "white",
             "linecolor": "white",
             "minorgridcolor": "white",
             "startlinecolor": "#2a3f5f"
            },
            "type": "carpet"
           }
          ],
          "choropleth": [
           {
            "colorbar": {
             "outlinewidth": 0,
             "ticks": ""
            },
            "type": "choropleth"
           }
          ],
          "contour": [
           {
            "colorbar": {
             "outlinewidth": 0,
             "ticks": ""
            },
            "colorscale": [
             [
              0,
              "#0d0887"
             ],
             [
              0.1111111111111111,
              "#46039f"
             ],
             [
              0.2222222222222222,
              "#7201a8"
             ],
             [
              0.3333333333333333,
              "#9c179e"
             ],
             [
              0.4444444444444444,
              "#bd3786"
             ],
             [
              0.5555555555555556,
              "#d8576b"
             ],
             [
              0.6666666666666666,
              "#ed7953"
             ],
             [
              0.7777777777777778,
              "#fb9f3a"
             ],
             [
              0.8888888888888888,
              "#fdca26"
             ],
             [
              1,
              "#f0f921"
             ]
            ],
            "type": "contour"
           }
          ],
          "contourcarpet": [
           {
            "colorbar": {
             "outlinewidth": 0,
             "ticks": ""
            },
            "type": "contourcarpet"
           }
          ],
          "heatmap": [
           {
            "colorbar": {
             "outlinewidth": 0,
             "ticks": ""
            },
            "colorscale": [
             [
              0,
              "#0d0887"
             ],
             [
              0.1111111111111111,
              "#46039f"
             ],
             [
              0.2222222222222222,
              "#7201a8"
             ],
             [
              0.3333333333333333,
              "#9c179e"
             ],
             [
              0.4444444444444444,
              "#bd3786"
             ],
             [
              0.5555555555555556,
              "#d8576b"
             ],
             [
              0.6666666666666666,
              "#ed7953"
             ],
             [
              0.7777777777777778,
              "#fb9f3a"
             ],
             [
              0.8888888888888888,
              "#fdca26"
             ],
             [
              1,
              "#f0f921"
             ]
            ],
            "type": "heatmap"
           }
          ],
          "histogram": [
           {
            "marker": {
             "pattern": {
              "fillmode": "overlay",
              "size": 10,
              "solidity": 0.2
             }
            },
            "type": "histogram"
           }
          ],
          "histogram2d": [
           {
            "colorbar": {
             "outlinewidth": 0,
             "ticks": ""
            },
            "colorscale": [
             [
              0,
              "#0d0887"
             ],
             [
              0.1111111111111111,
              "#46039f"
             ],
             [
              0.2222222222222222,
              "#7201a8"
             ],
             [
              0.3333333333333333,
              "#9c179e"
             ],
             [
              0.4444444444444444,
              "#bd3786"
             ],
             [
              0.5555555555555556,
              "#d8576b"
             ],
             [
              0.6666666666666666,
              "#ed7953"
             ],
             [
              0.7777777777777778,
              "#fb9f3a"
             ],
             [
              0.8888888888888888,
              "#fdca26"
             ],
             [
              1,
              "#f0f921"
             ]
            ],
            "type": "histogram2d"
           }
          ],
          "histogram2dcontour": [
           {
            "colorbar": {
             "outlinewidth": 0,
             "ticks": ""
            },
            "colorscale": [
             [
              0,
              "#0d0887"
             ],
             [
              0.1111111111111111,
              "#46039f"
             ],
             [
              0.2222222222222222,
              "#7201a8"
             ],
             [
              0.3333333333333333,
              "#9c179e"
             ],
             [
              0.4444444444444444,
              "#bd3786"
             ],
             [
              0.5555555555555556,
              "#d8576b"
             ],
             [
              0.6666666666666666,
              "#ed7953"
             ],
             [
              0.7777777777777778,
              "#fb9f3a"
             ],
             [
              0.8888888888888888,
              "#fdca26"
             ],
             [
              1,
              "#f0f921"
             ]
            ],
            "type": "histogram2dcontour"
           }
          ],
          "mesh3d": [
           {
            "colorbar": {
             "outlinewidth": 0,
             "ticks": ""
            },
            "type": "mesh3d"
           }
          ],
          "parcoords": [
           {
            "line": {
             "colorbar": {
              "outlinewidth": 0,
              "ticks": ""
             }
            },
            "type": "parcoords"
           }
          ],
          "pie": [
           {
            "automargin": true,
            "type": "pie"
           }
          ],
          "scatter": [
           {
            "fillpattern": {
             "fillmode": "overlay",
             "size": 10,
             "solidity": 0.2
            },
            "type": "scatter"
           }
          ],
          "scatter3d": [
           {
            "line": {
             "colorbar": {
              "outlinewidth": 0,
              "ticks": ""
             }
            },
            "marker": {
             "colorbar": {
              "outlinewidth": 0,
              "ticks": ""
             }
            },
            "type": "scatter3d"
           }
          ],
          "scattercarpet": [
           {
            "marker": {
             "colorbar": {
              "outlinewidth": 0,
              "ticks": ""
             }
            },
            "type": "scattercarpet"
           }
          ],
          "scattergeo": [
           {
            "marker": {
             "colorbar": {
              "outlinewidth": 0,
              "ticks": ""
             }
            },
            "type": "scattergeo"
           }
          ],
          "scattergl": [
           {
            "marker": {
             "colorbar": {
              "outlinewidth": 0,
              "ticks": ""
             }
            },
            "type": "scattergl"
           }
          ],
          "scattermap": [
           {
            "marker": {
             "colorbar": {
              "outlinewidth": 0,
              "ticks": ""
             }
            },
            "type": "scattermap"
           }
          ],
          "scattermapbox": [
           {
            "marker": {
             "colorbar": {
              "outlinewidth": 0,
              "ticks": ""
             }
            },
            "type": "scattermapbox"
           }
          ],
          "scatterpolar": [
           {
            "marker": {
             "colorbar": {
              "outlinewidth": 0,
              "ticks": ""
             }
            },
            "type": "scatterpolar"
           }
          ],
          "scatterpolargl": [
           {
            "marker": {
             "colorbar": {
              "outlinewidth": 0,
              "ticks": ""
             }
            },
            "type": "scatterpolargl"
           }
          ],
          "scatterternary": [
           {
            "marker": {
             "colorbar": {
              "outlinewidth": 0,
              "ticks": ""
             }
            },
            "type": "scatterternary"
           }
          ],
          "surface": [
           {
            "colorbar": {
             "outlinewidth": 0,
             "ticks": ""
            },
            "colorscale": [
             [
              0,
              "#0d0887"
             ],
             [
              0.1111111111111111,
              "#46039f"
             ],
             [
              0.2222222222222222,
              "#7201a8"
             ],
             [
              0.3333333333333333,
              "#9c179e"
             ],
             [
              0.4444444444444444,
              "#bd3786"
             ],
             [
              0.5555555555555556,
              "#d8576b"
             ],
             [
              0.6666666666666666,
              "#ed7953"
             ],
             [
              0.7777777777777778,
              "#fb9f3a"
             ],
             [
              0.8888888888888888,
              "#fdca26"
             ],
             [
              1,
              "#f0f921"
             ]
            ],
            "type": "surface"
           }
          ],
          "table": [
           {
            "cells": {
             "fill": {
              "color": "#EBF0F8"
             },
             "line": {
              "color": "white"
             }
            },
            "header": {
             "fill": {
              "color": "#C8D4E3"
             },
             "line": {
              "color": "white"
             }
            },
            "type": "table"
           }
          ]
         },
         "layout": {
          "annotationdefaults": {
           "arrowcolor": "#2a3f5f",
           "arrowhead": 0,
           "arrowwidth": 1
          },
          "autotypenumbers": "strict",
          "coloraxis": {
           "colorbar": {
            "outlinewidth": 0,
            "ticks": ""
           }
          },
          "colorscale": {
           "diverging": [
            [
             0,
             "#8e0152"
            ],
            [
             0.1,
             "#c51b7d"
            ],
            [
             0.2,
             "#de77ae"
            ],
            [
             0.3,
             "#f1b6da"
            ],
            [
             0.4,
             "#fde0ef"
            ],
            [
             0.5,
             "#f7f7f7"
            ],
            [
             0.6,
             "#e6f5d0"
            ],
            [
             0.7,
             "#b8e186"
            ],
            [
             0.8,
             "#7fbc41"
            ],
            [
             0.9,
             "#4d9221"
            ],
            [
             1,
             "#276419"
            ]
           ],
           "sequential": [
            [
             0,
             "#0d0887"
            ],
            [
             0.1111111111111111,
             "#46039f"
            ],
            [
             0.2222222222222222,
             "#7201a8"
            ],
            [
             0.3333333333333333,
             "#9c179e"
            ],
            [
             0.4444444444444444,
             "#bd3786"
            ],
            [
             0.5555555555555556,
             "#d8576b"
            ],
            [
             0.6666666666666666,
             "#ed7953"
            ],
            [
             0.7777777777777778,
             "#fb9f3a"
            ],
            [
             0.8888888888888888,
             "#fdca26"
            ],
            [
             1,
             "#f0f921"
            ]
           ],
           "sequentialminus": [
            [
             0,
             "#0d0887"
            ],
            [
             0.1111111111111111,
             "#46039f"
            ],
            [
             0.2222222222222222,
             "#7201a8"
            ],
            [
             0.3333333333333333,
             "#9c179e"
            ],
            [
             0.4444444444444444,
             "#bd3786"
            ],
            [
             0.5555555555555556,
             "#d8576b"
            ],
            [
             0.6666666666666666,
             "#ed7953"
            ],
            [
             0.7777777777777778,
             "#fb9f3a"
            ],
            [
             0.8888888888888888,
             "#fdca26"
            ],
            [
             1,
             "#f0f921"
            ]
           ]
          },
          "colorway": [
           "#636efa",
           "#EF553B",
           "#00cc96",
           "#ab63fa",
           "#FFA15A",
           "#19d3f3",
           "#FF6692",
           "#B6E880",
           "#FF97FF",
           "#FECB52"
          ],
          "font": {
           "color": "#2a3f5f"
          },
          "geo": {
           "bgcolor": "white",
           "lakecolor": "white",
           "landcolor": "#E5ECF6",
           "showlakes": true,
           "showland": true,
           "subunitcolor": "white"
          },
          "hoverlabel": {
           "align": "left"
          },
          "hovermode": "closest",
          "mapbox": {
           "style": "light"
          },
          "paper_bgcolor": "white",
          "plot_bgcolor": "#E5ECF6",
          "polar": {
           "angularaxis": {
            "gridcolor": "white",
            "linecolor": "white",
            "ticks": ""
           },
           "bgcolor": "#E5ECF6",
           "radialaxis": {
            "gridcolor": "white",
            "linecolor": "white",
            "ticks": ""
           }
          },
          "scene": {
           "xaxis": {
            "backgroundcolor": "#E5ECF6",
            "gridcolor": "white",
            "gridwidth": 2,
            "linecolor": "white",
            "showbackground": true,
            "ticks": "",
            "zerolinecolor": "white"
           },
           "yaxis": {
            "backgroundcolor": "#E5ECF6",
            "gridcolor": "white",
            "gridwidth": 2,
            "linecolor": "white",
            "showbackground": true,
            "ticks": "",
            "zerolinecolor": "white"
           },
           "zaxis": {
            "backgroundcolor": "#E5ECF6",
            "gridcolor": "white",
            "gridwidth": 2,
            "linecolor": "white",
            "showbackground": true,
            "ticks": "",
            "zerolinecolor": "white"
           }
          },
          "shapedefaults": {
           "line": {
            "color": "#2a3f5f"
           }
          },
          "ternary": {
           "aaxis": {
            "gridcolor": "white",
            "linecolor": "white",
            "ticks": ""
           },
           "baxis": {
            "gridcolor": "white",
            "linecolor": "white",
            "ticks": ""
           },
           "bgcolor": "#E5ECF6",
           "caxis": {
            "gridcolor": "white",
            "linecolor": "white",
            "ticks": ""
           }
          },
          "title": {
           "x": 0.05
          },
          "xaxis": {
           "automargin": true,
           "gridcolor": "white",
           "linecolor": "white",
           "ticks": "",
           "title": {
            "standoff": 15
           },
           "zerolinecolor": "white",
           "zerolinewidth": 2
          },
          "yaxis": {
           "automargin": true,
           "gridcolor": "white",
           "linecolor": "white",
           "ticks": "",
           "title": {
            "standoff": 15
           },
           "zerolinecolor": "white",
           "zerolinewidth": 2
          }
         }
        },
        "title": {
         "text": "Stock Price of TSLA"
        },
        "xaxis": {
         "rangeslider": {
          "visible": false
         },
         "title": {
          "text": "Date"
         }
        },
        "yaxis": {
         "title": {
          "text": "Price"
         }
        }
       }
      }
     },
     "metadata": {},
     "output_type": "display_data"
    }
   ],
   "source": [
    "\n",
    "fig = go.Figure(data=[go.Candlestick(\n",
    "    x=tsla_df['date'],\n",
    "    open=tsla_df['open'],\n",
    "    high=tsla_df['high'],\n",
    "    low=tsla_df['low'],\n",
    "    close=tsla_df['close'],\n",
    "    increasing_line_color='green',\n",
    "    decreasing_line_color='red'\n",
    ")])\n",
    "\n",
    "fig.update_layout(\n",
    "    title=f'Stock Price of {ticker}',\n",
    "    xaxis_title='Date',\n",
    "    yaxis_title='Price',\n",
    "    xaxis_rangeslider_visible=False\n",
    ")\n",
    "\n",
    "fig.show()"
   ]
  },
  {
   "cell_type": "markdown",
   "id": "30b8531f",
   "metadata": {},
   "source": [
    "#### Plot stock price & indicators"
   ]
  },
  {
   "cell_type": "code",
   "execution_count": 12,
   "id": "32aec0ca-cc82-451a-aaef-8b1edca2a6fb",
   "metadata": {},
   "outputs": [],
   "source": [
    "import matplotlib.pyplot as plt"
   ]
  },
  {
   "cell_type": "code",
   "execution_count": 13,
   "id": "6eadb5e6-d7c4-468d-84bf-820b2b5b5b8c",
   "metadata": {},
   "outputs": [
    {
     "data": {
      "image/png": "[encoded data removed]",
      "text/plain": [
       "<Figure size 1200x1000 with 3 Axes>"
      ]
     },
     "metadata": {},
     "output_type": "display_data"
    }
   ],
   "source": [
    "fig, axs = plt.subplots(3, figsize=(12, 10), gridspec_kw={'height_ratios': [3, 1, 1]})\n",
    "\n",
    "# Plot stock price with bollinger bands\n",
    "axs[0].plot(tsla_df.index, tsla_df['close'], label=\"Close Price\", color='black', linewidth=2)\n",
    "axs[0].plot(tsla_df.index, tsla_df['bb_middle'], label=\"Bollinger Middle\", color='blue', linestyle='dashed')\n",
    "axs[0].plot(tsla_df.index, tsla_df['bb_upper'], label=\"Bollinger Upper\", color='red', linestyle='dashed')\n",
    "axs[0].plot(tsla_df.index, tsla_df['bb_lower'], label=\"Bollinger Lower\", color='green', linestyle='dashed')\n",
    "axs[0].set_title(f\"Stock Price of {ticker}\")\n",
    "axs[0].set_ylabel(\"Price\")\n",
    "axs[0].legend()\n",
    "\n",
    "# Plot RSI\n",
    "axs[1].plot(tsla_df.index, tsla_df['rsi'], label=\"RSI\", color='purple', linewidth=2)\n",
    "axs[1].axhline(80, linestyle='dashed', color='red', alpha=0.7)\n",
    "axs[1].axhline(20, linestyle='dashed', color='green', alpha=0.7)\n",
    "axs[1].set_title(\"Relative Strength Index (RSI)\")\n",
    "axs[1].set_ylabel(\"RSI\")\n",
    "axs[1].set_ylim([0,100])\n",
    "axs[1].legend()\n",
    "\n",
    "# Plot MACD\n",
    "axs[2].plot(tsla_df.index, tsla_df['macd_line'], label=\"MACD Line\", color='green')\n",
    "axs[2].plot(tsla_df.index, tsla_df['macd_signal'], label=\"MACD Signal\", color='red')\n",
    "axs[2].plot(tsla_df.index, tsla_df['macd_histogram'], label=\"MACD Histogram\", color='black', linewidth=2)\n",
    "axs[2].bar(tsla_df.index, tsla_df['macd_histogram'], \n",
    "           color=['green' if v >= 0 else 'red' for v in tsla_df['macd_histogram']], \n",
    "           alpha=0.5)\n",
    "axs[2].axhline(0, color='black', alpha=0.5)\n",
    "axs[2].set_title(\"MACD Indicator\")\n",
    "axs[2].set_ylabel(\"MACD\")\n",
    "axs[2].legend()\n",
    "\n",
    "plt.tight_layout()\n",
    "plt.show()"
   ]
  }
 ],
 "metadata": {
  "kernelspec": {
   "display_name": "venv",
   "language": "python",
   "name": "python3"
  },
  "language_info": {
   "codemirror_mode": {
    "name": "ipython",
    "version": 3
   },
   "file_extension": ".py",
   "mimetype": "text/x-python",
   "name": "python",
   "nbconvert_exporter": "python",
   "pygments_lexer": "ipython3",
   "version": "3.12.6"
  }
 },
 "nbformat": 4,
 "nbformat_minor": 5
}
